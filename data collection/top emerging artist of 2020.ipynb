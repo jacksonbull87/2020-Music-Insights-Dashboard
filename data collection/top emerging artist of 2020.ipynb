{
 "cells": [
  {
   "cell_type": "markdown",
   "metadata": {},
   "source": [
    "## Import Libraries"
   ]
  },
  {
   "cell_type": "code",
   "execution_count": 1,
   "metadata": {},
   "outputs": [],
   "source": [
    "import pandas as pd\n",
    "from cm_api import *\n",
    "from helper_funct import *\n",
    "from helper_funct1 import *\n",
    "from cm_config import config\n",
    "import matplotlib.pyplot as plt\n",
    "from tabulate import tabulate "
   ]
  },
  {
   "cell_type": "markdown",
   "metadata": {},
   "source": [
    "## Request API Token"
   ]
  },
  {
   "cell_type": "code",
   "execution_count": 2,
   "metadata": {},
   "outputs": [],
   "source": [
    "api_token = get_api_token(config['refresh_token'])"
   ]
  },
  {
   "cell_type": "markdown",
   "metadata": {},
   "source": [
    "## Collect Top 200 Spotify Weekly Charts (US) for 2020"
   ]
  },
  {
   "cell_type": "markdown",
   "metadata": {},
   "source": [
    "### Create list of dates"
   ]
  },
  {
   "cell_type": "code",
   "execution_count": 3,
   "metadata": {},
   "outputs": [],
   "source": [
    "date_list = get_date_range('2020-01-01', '2020-12-11', 'W')"
   ]
  },
  {
   "cell_type": "code",
   "execution_count": 4,
   "metadata": {},
   "outputs": [
    {
     "data": {
      "text/plain": [
       "49"
      ]
     },
     "execution_count": 4,
     "metadata": {},
     "output_type": "execute_result"
    }
   ],
   "source": [
    "first_date = date_list[0]\n",
    "recent_date = date_list[-1]\n",
    "len(date_list)"
   ]
  },
  {
   "cell_type": "markdown",
   "metadata": {},
   "source": [
    "### Collect top tracks for 2020"
   ]
  },
  {
   "cell_type": "code",
   "execution_count": 5,
   "metadata": {},
   "outputs": [
    {
     "name": "stdout",
     "output_type": "stream",
     "text": [
      "1\n",
      "2\n",
      "3\n",
      "4\n",
      "5\n",
      "6\n",
      "7\n",
      "8\n",
      "9\n",
      "10\n",
      "11\n",
      "12\n",
      "13\n",
      "14\n",
      "15\n",
      "16\n",
      "17\n",
      "18\n",
      "19\n",
      "20\n",
      "21\n",
      "22\n",
      "23\n",
      "24\n",
      "25\n",
      "26\n",
      "27\n",
      "28\n",
      "29\n",
      "30\n",
      "31\n",
      "32\n",
      "33\n",
      "34\n",
      "35\n",
      "36\n",
      "37\n",
      "38\n",
      "39\n",
      "40\n",
      "41\n",
      "42\n",
      "43\n",
      "44\n",
      "45\n",
      "46\n",
      "47\n",
      "48\n",
      "49\n"
     ]
    }
   ],
   "source": [
    "counter = 0\n",
    "spotify_chart_data = []\n",
    "for date in date_list:\n",
    "    data = get_spotify_charts(api_token, date, 'US', 'regional', 'weekly')\n",
    "    counter += 1\n",
    "    print(counter)\n",
    "    for track in data:\n",
    "        track_tuple = (track['added_at'],track['rank'], track['name'], track['cm_track'], track['artist_names'],\n",
    "                      track['cm_artist'], track['current_plays'], track['time_on_chart'], track['velocity'])\n",
    "        spotify_chart_data.append(track_tuple)\n",
    "\n",
    "spotify2020 = pd.DataFrame(spotify_chart_data, columns=['add_date','rank', 'title', 'cm_track_id', 'artist_names', 'cm_artist_ids', 'current_plays', 'time_on_chart', 'velocity'])"
   ]
  },
  {
   "cell_type": "markdown",
   "metadata": {},
   "source": [
    "### Save raw data"
   ]
  },
  {
   "cell_type": "code",
   "execution_count": 6,
   "metadata": {},
   "outputs": [],
   "source": [
    "spotify2020.to_csv('spotify2020_raw.csv')"
   ]
  },
  {
   "cell_type": "code",
   "execution_count": 18,
   "metadata": {},
   "outputs": [
    {
     "data": {
      "text/html": [
       "<div>\n",
       "<style scoped>\n",
       "    .dataframe tbody tr th:only-of-type {\n",
       "        vertical-align: middle;\n",
       "    }\n",
       "\n",
       "    .dataframe tbody tr th {\n",
       "        vertical-align: top;\n",
       "    }\n",
       "\n",
       "    .dataframe thead th {\n",
       "        text-align: right;\n",
       "    }\n",
       "</style>\n",
       "<table border=\"1\" class=\"dataframe\">\n",
       "  <thead>\n",
       "    <tr style=\"text-align: right;\">\n",
       "      <th></th>\n",
       "      <th>add_date</th>\n",
       "      <th>rank</th>\n",
       "      <th>title</th>\n",
       "      <th>cm_track_id</th>\n",
       "      <th>artist_names</th>\n",
       "      <th>cm_artist_ids</th>\n",
       "      <th>current_plays</th>\n",
       "      <th>time_on_chart</th>\n",
       "      <th>velocity</th>\n",
       "      <th>primary_artist</th>\n",
       "      <th>secondary_artist</th>\n",
       "      <th>primary_artist ID</th>\n",
       "      <th>secondfary_artist ID</th>\n",
       "    </tr>\n",
       "  </thead>\n",
       "  <tbody>\n",
       "    <tr>\n",
       "      <th>0</th>\n",
       "      <td>2020-01-09T00:00:00.000Z</td>\n",
       "      <td>1</td>\n",
       "      <td>The Box</td>\n",
       "      <td>27599255</td>\n",
       "      <td>[Roddy Ricch]</td>\n",
       "      <td>[839964]</td>\n",
       "      <td>18952305</td>\n",
       "      <td>55</td>\n",
       "      <td>0.000000</td>\n",
       "      <td>Roddy Ricch</td>\n",
       "      <td>None</td>\n",
       "      <td>839964</td>\n",
       "      <td>NaN</td>\n",
       "    </tr>\n",
       "    <tr>\n",
       "      <th>1</th>\n",
       "      <td>2020-01-09T00:00:00.000Z</td>\n",
       "      <td>2</td>\n",
       "      <td>ROXANNE</td>\n",
       "      <td>27228348</td>\n",
       "      <td>[Arizona Zervas]</td>\n",
       "      <td>[64150]</td>\n",
       "      <td>9671478</td>\n",
       "      <td>57</td>\n",
       "      <td>0.000000</td>\n",
       "      <td>Arizona Zervas</td>\n",
       "      <td>None</td>\n",
       "      <td>64150</td>\n",
       "      <td>NaN</td>\n",
       "    </tr>\n",
       "    <tr>\n",
       "      <th>2</th>\n",
       "      <td>2020-01-09T00:00:00.000Z</td>\n",
       "      <td>3</td>\n",
       "      <td>Yummy</td>\n",
       "      <td>28077991</td>\n",
       "      <td>[Justin Bieber]</td>\n",
       "      <td>[3479]</td>\n",
       "      <td>9648561</td>\n",
       "      <td>6</td>\n",
       "      <td>NaN</td>\n",
       "      <td>Justin Bieber</td>\n",
       "      <td>None</td>\n",
       "      <td>3479</td>\n",
       "      <td>NaN</td>\n",
       "    </tr>\n",
       "    <tr>\n",
       "      <th>3</th>\n",
       "      <td>2020-01-09T00:00:00.000Z</td>\n",
       "      <td>4</td>\n",
       "      <td>Circles</td>\n",
       "      <td>25021708</td>\n",
       "      <td>[Post Malone]</td>\n",
       "      <td>[135326]</td>\n",
       "      <td>8244725</td>\n",
       "      <td>67</td>\n",
       "      <td>-0.142857</td>\n",
       "      <td>Post Malone</td>\n",
       "      <td>None</td>\n",
       "      <td>135326</td>\n",
       "      <td>NaN</td>\n",
       "    </tr>\n",
       "    <tr>\n",
       "      <th>4</th>\n",
       "      <td>2020-01-09T00:00:00.000Z</td>\n",
       "      <td>5</td>\n",
       "      <td>BOP</td>\n",
       "      <td>25358331</td>\n",
       "      <td>[DaBaby]</td>\n",
       "      <td>[398544]</td>\n",
       "      <td>7985170</td>\n",
       "      <td>65</td>\n",
       "      <td>-0.142857</td>\n",
       "      <td>DaBaby</td>\n",
       "      <td>None</td>\n",
       "      <td>398544</td>\n",
       "      <td>NaN</td>\n",
       "    </tr>\n",
       "  </tbody>\n",
       "</table>\n",
       "</div>"
      ],
      "text/plain": [
       "                   add_date  rank    title  cm_track_id      artist_names  \\\n",
       "0  2020-01-09T00:00:00.000Z     1  The Box     27599255     [Roddy Ricch]   \n",
       "1  2020-01-09T00:00:00.000Z     2  ROXANNE     27228348  [Arizona Zervas]   \n",
       "2  2020-01-09T00:00:00.000Z     3    Yummy     28077991   [Justin Bieber]   \n",
       "3  2020-01-09T00:00:00.000Z     4  Circles     25021708     [Post Malone]   \n",
       "4  2020-01-09T00:00:00.000Z     5      BOP     25358331          [DaBaby]   \n",
       "\n",
       "  cm_artist_ids  current_plays time_on_chart  velocity  primary_artist  \\\n",
       "0      [839964]       18952305            55  0.000000     Roddy Ricch   \n",
       "1       [64150]        9671478            57  0.000000  Arizona Zervas   \n",
       "2        [3479]        9648561             6       NaN   Justin Bieber   \n",
       "3      [135326]        8244725            67 -0.142857     Post Malone   \n",
       "4      [398544]        7985170            65 -0.142857          DaBaby   \n",
       "\n",
       "  secondary_artist primary_artist ID  secondfary_artist ID  \n",
       "0             None            839964                   NaN  \n",
       "1             None             64150                   NaN  \n",
       "2             None              3479                   NaN  \n",
       "3             None            135326                   NaN  \n",
       "4             None            398544                   NaN  "
      ]
     },
     "execution_count": 18,
     "metadata": {},
     "output_type": "execute_result"
    }
   ],
   "source": [
    "spotify2020.head()"
   ]
  },
  {
   "cell_type": "code",
   "execution_count": null,
   "metadata": {},
   "outputs": [],
   "source": [
    "#convert artist id to string\n",
    "spotify2020['primary_artist ID'] = spotify2020['primary_artist ID'].astype('int64')"
   ]
  },
  {
   "cell_type": "code",
   "execution_count": null,
   "metadata": {},
   "outputs": [],
   "source": [
    "spotify2020.keys()"
   ]
  },
  {
   "cell_type": "code",
   "execution_count": 10,
   "metadata": {},
   "outputs": [],
   "source": [
    "#create primary artist feature\n",
    "\n",
    "spotify2020['primary_artist'] = spotify2020['artist_names'].apply(lambda x: x[0])"
   ]
  },
  {
   "cell_type": "code",
   "execution_count": 11,
   "metadata": {},
   "outputs": [],
   "source": [
    "#create secondary artist feature\n",
    "\n",
    "spotify2020['secondary_artist'] = spotify2020['artist_names'].apply(lambda x: x[1] if len(x) > 1 else None)"
   ]
  },
  {
   "cell_type": "code",
   "execution_count": 12,
   "metadata": {},
   "outputs": [],
   "source": [
    "#create primary artist ID feature\n",
    "\n",
    "spotify2020['primary_artist ID'] = spotify2020['cm_artist_ids'].apply(lambda x: x[0])\n",
    "#convert artist id to string\n",
    "spotify2020['primary_artist ID'] = spotify2020['primary_artist ID'].astype('str')"
   ]
  },
  {
   "cell_type": "code",
   "execution_count": 13,
   "metadata": {},
   "outputs": [],
   "source": [
    "#create secondary artist ID feature\n",
    "\n",
    "spotify2020['secondfary_artist ID'] = spotify2020['cm_artist_ids'].apply(lambda x: x[1] if len(x) > 1 else None)"
   ]
  },
  {
   "cell_type": "code",
   "execution_count": 14,
   "metadata": {},
   "outputs": [
    {
     "data": {
      "text/plain": [
       "336"
      ]
     },
     "execution_count": 14,
     "metadata": {},
     "output_type": "execute_result"
    }
   ],
   "source": [
    "#how many unique artists?\n",
    "spotify2020['primary_artist'].nunique()"
   ]
  },
  {
   "cell_type": "code",
   "execution_count": 15,
   "metadata": {},
   "outputs": [],
   "source": [
    "unique_partists = list(spotify2020['primary_artist'].unique())"
   ]
  },
  {
   "cell_type": "code",
   "execution_count": 16,
   "metadata": {},
   "outputs": [],
   "source": [
    "unique_pids = list(spotify2020['primary_artist ID'].unique())"
   ]
  },
  {
   "cell_type": "code",
   "execution_count": 17,
   "metadata": {},
   "outputs": [],
   "source": [
    "#create a dictionary of artist : artist id\n",
    "\n",
    "primary_artist_dict = dict(zip(unique_partists, unique_pids)) "
   ]
  },
  {
   "cell_type": "code",
   "execution_count": null,
   "metadata": {},
   "outputs": [],
   "source": []
  },
  {
   "cell_type": "code",
   "execution_count": 19,
   "metadata": {},
   "outputs": [],
   "source": [
    "artist_listener_data = []\n",
    "\n",
    "for k,v in primary_artist_dict.items():\n",
    "    listener_data = get_fan_metrics(api_token, v, 'spotify', first_date, recent_date, field='listeners')['listeners']\n",
    "    listener_tuple = (k, v, listener_data[0]['value'], listener_data[-1]['value'])\n",
    "    artist_listener_data.append(listener_tuple)\n",
    "    \n",
    "    "
   ]
  },
  {
   "cell_type": "code",
   "execution_count": 20,
   "metadata": {},
   "outputs": [],
   "source": [
    "#create lists for unique primary artist ids, first spotify listens, recent spotify listens\n",
    "\n",
    "first_listeners = []\n",
    "recent_listeners = []\n",
    "artist_ids = []\n",
    "\n",
    "for tup in artist_listener_data:\n",
    "    artist_ids.append(tup[1])\n",
    "    first_listeners.append(tup[2])\n",
    "    recent_listeners.append(tup[3])"
   ]
  },
  {
   "cell_type": "code",
   "execution_count": 21,
   "metadata": {},
   "outputs": [],
   "source": [
    "#create dictionaries for first and recent listeners\n",
    "\n",
    "prim_artist_firstlist_di = dict(zip(artist_ids, first_listeners))\n",
    "prim_artist_recentlist_di = dict(zip(artist_ids, recent_listeners))"
   ]
  },
  {
   "cell_type": "code",
   "execution_count": 22,
   "metadata": {},
   "outputs": [],
   "source": [
    "#create a new features of first and recent listeners for each unique primary artist\n",
    "\n",
    "spotify2020['Prim: Jan. 5-Listeners'] = spotify2020['primary_artist ID'].map(prim_artist_firstlist_di)\n",
    "spotify2020['Prim: Dec. 6-Listeners'] = spotify2020['primary_artist ID'].map(prim_artist_recentlist_di)"
   ]
  },
  {
   "cell_type": "code",
   "execution_count": 67,
   "metadata": {},
   "outputs": [
    {
     "data": {
      "text/html": [
       "<div>\n",
       "<style scoped>\n",
       "    .dataframe tbody tr th:only-of-type {\n",
       "        vertical-align: middle;\n",
       "    }\n",
       "\n",
       "    .dataframe tbody tr th {\n",
       "        vertical-align: top;\n",
       "    }\n",
       "\n",
       "    .dataframe thead th {\n",
       "        text-align: right;\n",
       "    }\n",
       "</style>\n",
       "<table border=\"1\" class=\"dataframe\">\n",
       "  <thead>\n",
       "    <tr style=\"text-align: right;\">\n",
       "      <th></th>\n",
       "      <th>add_date</th>\n",
       "      <th>rank</th>\n",
       "      <th>title</th>\n",
       "      <th>cm_track_id</th>\n",
       "      <th>artist_names</th>\n",
       "      <th>cm_artist_ids</th>\n",
       "      <th>current_plays</th>\n",
       "      <th>time_on_chart</th>\n",
       "      <th>velocity</th>\n",
       "      <th>primary_artist</th>\n",
       "      <th>secondary_artist</th>\n",
       "      <th>primary_artist ID</th>\n",
       "      <th>secondfary_artist ID</th>\n",
       "      <th>Prim: Jan. 5-Listeners</th>\n",
       "      <th>Prim: Dec. 6-Listeners</th>\n",
       "    </tr>\n",
       "  </thead>\n",
       "  <tbody>\n",
       "    <tr>\n",
       "      <th>0</th>\n",
       "      <td>2020-01-09T00:00:00.000Z</td>\n",
       "      <td>1</td>\n",
       "      <td>The Box</td>\n",
       "      <td>27599255</td>\n",
       "      <td>[Roddy Ricch]</td>\n",
       "      <td>[839964]</td>\n",
       "      <td>18952305</td>\n",
       "      <td>55</td>\n",
       "      <td>0.000000</td>\n",
       "      <td>Roddy Ricch</td>\n",
       "      <td>None</td>\n",
       "      <td>839964</td>\n",
       "      <td>NaN</td>\n",
       "      <td>19014642</td>\n",
       "      <td>21923722</td>\n",
       "    </tr>\n",
       "    <tr>\n",
       "      <th>1</th>\n",
       "      <td>2020-01-09T00:00:00.000Z</td>\n",
       "      <td>2</td>\n",
       "      <td>ROXANNE</td>\n",
       "      <td>27228348</td>\n",
       "      <td>[Arizona Zervas]</td>\n",
       "      <td>[64150]</td>\n",
       "      <td>9671478</td>\n",
       "      <td>57</td>\n",
       "      <td>0.000000</td>\n",
       "      <td>Arizona Zervas</td>\n",
       "      <td>None</td>\n",
       "      <td>64150</td>\n",
       "      <td>NaN</td>\n",
       "      <td>28519561</td>\n",
       "      <td>12499023</td>\n",
       "    </tr>\n",
       "    <tr>\n",
       "      <th>2</th>\n",
       "      <td>2020-01-09T00:00:00.000Z</td>\n",
       "      <td>3</td>\n",
       "      <td>Yummy</td>\n",
       "      <td>28077991</td>\n",
       "      <td>[Justin Bieber]</td>\n",
       "      <td>[3479]</td>\n",
       "      <td>9648561</td>\n",
       "      <td>6</td>\n",
       "      <td>NaN</td>\n",
       "      <td>Justin Bieber</td>\n",
       "      <td>None</td>\n",
       "      <td>3479</td>\n",
       "      <td>NaN</td>\n",
       "      <td>59053556</td>\n",
       "      <td>72539216</td>\n",
       "    </tr>\n",
       "    <tr>\n",
       "      <th>3</th>\n",
       "      <td>2020-01-09T00:00:00.000Z</td>\n",
       "      <td>4</td>\n",
       "      <td>Circles</td>\n",
       "      <td>25021708</td>\n",
       "      <td>[Post Malone]</td>\n",
       "      <td>[135326]</td>\n",
       "      <td>8244725</td>\n",
       "      <td>67</td>\n",
       "      <td>-0.142857</td>\n",
       "      <td>Post Malone</td>\n",
       "      <td>None</td>\n",
       "      <td>135326</td>\n",
       "      <td>NaN</td>\n",
       "      <td>59360500</td>\n",
       "      <td>41224314</td>\n",
       "    </tr>\n",
       "    <tr>\n",
       "      <th>4</th>\n",
       "      <td>2020-01-09T00:00:00.000Z</td>\n",
       "      <td>5</td>\n",
       "      <td>BOP</td>\n",
       "      <td>25358331</td>\n",
       "      <td>[DaBaby]</td>\n",
       "      <td>[398544]</td>\n",
       "      <td>7985170</td>\n",
       "      <td>65</td>\n",
       "      <td>-0.142857</td>\n",
       "      <td>DaBaby</td>\n",
       "      <td>None</td>\n",
       "      <td>398544</td>\n",
       "      <td>NaN</td>\n",
       "      <td>21300480</td>\n",
       "      <td>42133931</td>\n",
       "    </tr>\n",
       "    <tr>\n",
       "      <th>...</th>\n",
       "      <td>...</td>\n",
       "      <td>...</td>\n",
       "      <td>...</td>\n",
       "      <td>...</td>\n",
       "      <td>...</td>\n",
       "      <td>...</td>\n",
       "      <td>...</td>\n",
       "      <td>...</td>\n",
       "      <td>...</td>\n",
       "      <td>...</td>\n",
       "      <td>...</td>\n",
       "      <td>...</td>\n",
       "      <td>...</td>\n",
       "      <td>...</td>\n",
       "      <td>...</td>\n",
       "    </tr>\n",
       "    <tr>\n",
       "      <th>9795</th>\n",
       "      <td>2020-12-10T00:00:00.000Z</td>\n",
       "      <td>196</td>\n",
       "      <td>SICKO MODE</td>\n",
       "      <td>20318958</td>\n",
       "      <td>[Travis Scott]</td>\n",
       "      <td>[4215]</td>\n",
       "      <td>1707997</td>\n",
       "      <td>123</td>\n",
       "      <td>-1.857143</td>\n",
       "      <td>Travis Scott</td>\n",
       "      <td>None</td>\n",
       "      <td>4215</td>\n",
       "      <td>NaN</td>\n",
       "      <td>38669161</td>\n",
       "      <td>39381880</td>\n",
       "    </tr>\n",
       "    <tr>\n",
       "      <th>9796</th>\n",
       "      <td>2020-12-10T00:00:00.000Z</td>\n",
       "      <td>197</td>\n",
       "      <td>Beautiful Crazy</td>\n",
       "      <td>19173498</td>\n",
       "      <td>[Luke Combs]</td>\n",
       "      <td>[207759]</td>\n",
       "      <td>1707684</td>\n",
       "      <td>125</td>\n",
       "      <td>-3.142857</td>\n",
       "      <td>Luke Combs</td>\n",
       "      <td>None</td>\n",
       "      <td>207759</td>\n",
       "      <td>NaN</td>\n",
       "      <td>7904711</td>\n",
       "      <td>11328621</td>\n",
       "    </tr>\n",
       "    <tr>\n",
       "      <th>9797</th>\n",
       "      <td>2020-12-10T00:00:00.000Z</td>\n",
       "      <td>198</td>\n",
       "      <td>Just The Two Of Us (feat. Bill Withers)</td>\n",
       "      <td>15275075</td>\n",
       "      <td>[Grover Washington, Jr., Bill Withers]</td>\n",
       "      <td>[11492, 822]</td>\n",
       "      <td>1704552</td>\n",
       "      <td>1</td>\n",
       "      <td>NaN</td>\n",
       "      <td>Grover Washington, Jr.</td>\n",
       "      <td>Bill Withers</td>\n",
       "      <td>11492</td>\n",
       "      <td>822.0</td>\n",
       "      <td>1036884</td>\n",
       "      <td>4072160</td>\n",
       "    </tr>\n",
       "    <tr>\n",
       "      <th>9798</th>\n",
       "      <td>2020-12-10T00:00:00.000Z</td>\n",
       "      <td>199</td>\n",
       "      <td>The Less I Know The Better</td>\n",
       "      <td>11020231</td>\n",
       "      <td>[Tame Impala]</td>\n",
       "      <td>[3315]</td>\n",
       "      <td>1702908</td>\n",
       "      <td>65</td>\n",
       "      <td>-0.428571</td>\n",
       "      <td>Tame Impala</td>\n",
       "      <td>None</td>\n",
       "      <td>3315</td>\n",
       "      <td>NaN</td>\n",
       "      <td>10849722</td>\n",
       "      <td>13643806</td>\n",
       "    </tr>\n",
       "    <tr>\n",
       "      <th>9799</th>\n",
       "      <td>2020-12-10T00:00:00.000Z</td>\n",
       "      <td>200</td>\n",
       "      <td>Drip Too Hard (Lil Baby &amp; Gunna)</td>\n",
       "      <td>20556655</td>\n",
       "      <td>[Lil Baby, Gunna]</td>\n",
       "      <td>[731530, 620149]</td>\n",
       "      <td>1681430</td>\n",
       "      <td>114</td>\n",
       "      <td>-0.142857</td>\n",
       "      <td>Lil Baby</td>\n",
       "      <td>Gunna</td>\n",
       "      <td>731530</td>\n",
       "      <td>620149.0</td>\n",
       "      <td>16923931</td>\n",
       "      <td>17910987</td>\n",
       "    </tr>\n",
       "  </tbody>\n",
       "</table>\n",
       "<p>9800 rows × 15 columns</p>\n",
       "</div>"
      ],
      "text/plain": [
       "                      add_date  rank                                    title  \\\n",
       "0     2020-01-09T00:00:00.000Z     1                                  The Box   \n",
       "1     2020-01-09T00:00:00.000Z     2                                  ROXANNE   \n",
       "2     2020-01-09T00:00:00.000Z     3                                    Yummy   \n",
       "3     2020-01-09T00:00:00.000Z     4                                  Circles   \n",
       "4     2020-01-09T00:00:00.000Z     5                                      BOP   \n",
       "...                        ...   ...                                      ...   \n",
       "9795  2020-12-10T00:00:00.000Z   196                               SICKO MODE   \n",
       "9796  2020-12-10T00:00:00.000Z   197                          Beautiful Crazy   \n",
       "9797  2020-12-10T00:00:00.000Z   198  Just The Two Of Us (feat. Bill Withers)   \n",
       "9798  2020-12-10T00:00:00.000Z   199               The Less I Know The Better   \n",
       "9799  2020-12-10T00:00:00.000Z   200         Drip Too Hard (Lil Baby & Gunna)   \n",
       "\n",
       "      cm_track_id                            artist_names     cm_artist_ids  \\\n",
       "0        27599255                           [Roddy Ricch]          [839964]   \n",
       "1        27228348                        [Arizona Zervas]           [64150]   \n",
       "2        28077991                         [Justin Bieber]            [3479]   \n",
       "3        25021708                           [Post Malone]          [135326]   \n",
       "4        25358331                                [DaBaby]          [398544]   \n",
       "...           ...                                     ...               ...   \n",
       "9795     20318958                          [Travis Scott]            [4215]   \n",
       "9796     19173498                            [Luke Combs]          [207759]   \n",
       "9797     15275075  [Grover Washington, Jr., Bill Withers]      [11492, 822]   \n",
       "9798     11020231                           [Tame Impala]            [3315]   \n",
       "9799     20556655                       [Lil Baby, Gunna]  [731530, 620149]   \n",
       "\n",
       "      current_plays time_on_chart  velocity          primary_artist  \\\n",
       "0          18952305            55  0.000000             Roddy Ricch   \n",
       "1           9671478            57  0.000000          Arizona Zervas   \n",
       "2           9648561             6       NaN           Justin Bieber   \n",
       "3           8244725            67 -0.142857             Post Malone   \n",
       "4           7985170            65 -0.142857                  DaBaby   \n",
       "...             ...           ...       ...                     ...   \n",
       "9795        1707997           123 -1.857143            Travis Scott   \n",
       "9796        1707684           125 -3.142857              Luke Combs   \n",
       "9797        1704552             1       NaN  Grover Washington, Jr.   \n",
       "9798        1702908            65 -0.428571             Tame Impala   \n",
       "9799        1681430           114 -0.142857                Lil Baby   \n",
       "\n",
       "     secondary_artist primary_artist ID  secondfary_artist ID  \\\n",
       "0                None            839964                   NaN   \n",
       "1                None             64150                   NaN   \n",
       "2                None              3479                   NaN   \n",
       "3                None            135326                   NaN   \n",
       "4                None            398544                   NaN   \n",
       "...               ...               ...                   ...   \n",
       "9795             None              4215                   NaN   \n",
       "9796             None            207759                   NaN   \n",
       "9797     Bill Withers             11492                 822.0   \n",
       "9798             None              3315                   NaN   \n",
       "9799            Gunna            731530              620149.0   \n",
       "\n",
       "      Prim: Jan. 5-Listeners  Prim: Dec. 6-Listeners  \n",
       "0                   19014642                21923722  \n",
       "1                   28519561                12499023  \n",
       "2                   59053556                72539216  \n",
       "3                   59360500                41224314  \n",
       "4                   21300480                42133931  \n",
       "...                      ...                     ...  \n",
       "9795                38669161                39381880  \n",
       "9796                 7904711                11328621  \n",
       "9797                 1036884                 4072160  \n",
       "9798                10849722                13643806  \n",
       "9799                16923931                17910987  \n",
       "\n",
       "[9800 rows x 15 columns]"
      ]
     },
     "execution_count": 67,
     "metadata": {},
     "output_type": "execute_result"
    }
   ],
   "source": [
    "spotify2020"
   ]
  },
  {
   "cell_type": "code",
   "execution_count": 24,
   "metadata": {},
   "outputs": [],
   "source": [
    "spotify2020.to_csv('spotify2020_v1.csv')"
   ]
  },
  {
   "cell_type": "code",
   "execution_count": null,
   "metadata": {},
   "outputs": [],
   "source": []
  },
  {
   "cell_type": "markdown",
   "metadata": {},
   "source": [
    "## Artist Type Feature\n",
    "This feature indicates whether or not the artist is considered \"emerging\", \"established\", or \"super\" based on\n",
    "the number of spotify listeners early in the year (January 5th)"
   ]
  },
  {
   "cell_type": "code",
   "execution_count": 30,
   "metadata": {},
   "outputs": [
    {
     "data": {
      "text/html": [
       "<div>\n",
       "<style scoped>\n",
       "    .dataframe tbody tr th:only-of-type {\n",
       "        vertical-align: middle;\n",
       "    }\n",
       "\n",
       "    .dataframe tbody tr th {\n",
       "        vertical-align: top;\n",
       "    }\n",
       "\n",
       "    .dataframe thead th {\n",
       "        text-align: right;\n",
       "    }\n",
       "</style>\n",
       "<table border=\"1\" class=\"dataframe\">\n",
       "  <thead>\n",
       "    <tr style=\"text-align: right;\">\n",
       "      <th></th>\n",
       "      <th>rank</th>\n",
       "      <th>cm_track_id</th>\n",
       "      <th>current_plays</th>\n",
       "      <th>velocity</th>\n",
       "      <th>secondfary_artist ID</th>\n",
       "      <th>Prim: Jan. 5-Listeners</th>\n",
       "      <th>Prim: Dec. 6-Listeners</th>\n",
       "    </tr>\n",
       "  </thead>\n",
       "  <tbody>\n",
       "    <tr>\n",
       "      <th>count</th>\n",
       "      <td>9800.000000</td>\n",
       "      <td>9.800000e+03</td>\n",
       "      <td>9.800000e+03</td>\n",
       "      <td>8389.000000</td>\n",
       "      <td>3.807000e+03</td>\n",
       "      <td>9.800000e+03</td>\n",
       "      <td>9.800000e+03</td>\n",
       "    </tr>\n",
       "    <tr>\n",
       "      <th>mean</th>\n",
       "      <td>100.500000</td>\n",
       "      <td>2.548459e+07</td>\n",
       "      <td>2.715603e+06</td>\n",
       "      <td>-0.887693</td>\n",
       "      <td>4.009504e+05</td>\n",
       "      <td>2.348214e+07</td>\n",
       "      <td>2.762713e+07</td>\n",
       "    </tr>\n",
       "    <tr>\n",
       "      <th>std</th>\n",
       "      <td>57.737251</td>\n",
       "      <td>4.876548e+06</td>\n",
       "      <td>1.739207e+06</td>\n",
       "      <td>3.332286</td>\n",
       "      <td>5.180206e+05</td>\n",
       "      <td>1.753592e+07</td>\n",
       "      <td>1.647063e+07</td>\n",
       "    </tr>\n",
       "    <tr>\n",
       "      <th>min</th>\n",
       "      <td>1.000000</td>\n",
       "      <td>1.098839e+07</td>\n",
       "      <td>1.350029e+06</td>\n",
       "      <td>-23.428571</td>\n",
       "      <td>6.000000e+01</td>\n",
       "      <td>1.300000e+01</td>\n",
       "      <td>1.000000e+00</td>\n",
       "    </tr>\n",
       "    <tr>\n",
       "      <th>25%</th>\n",
       "      <td>50.750000</td>\n",
       "      <td>2.235895e+07</td>\n",
       "      <td>1.724710e+06</td>\n",
       "      <td>-2.142857</td>\n",
       "      <td>4.215000e+03</td>\n",
       "      <td>7.992604e+06</td>\n",
       "      <td>1.364381e+07</td>\n",
       "    </tr>\n",
       "    <tr>\n",
       "      <th>50%</th>\n",
       "      <td>100.500000</td>\n",
       "      <td>2.743093e+07</td>\n",
       "      <td>2.096916e+06</td>\n",
       "      <td>-0.428571</td>\n",
       "      <td>2.096930e+05</td>\n",
       "      <td>1.970453e+07</td>\n",
       "      <td>2.478516e+07</td>\n",
       "    </tr>\n",
       "    <tr>\n",
       "      <th>75%</th>\n",
       "      <td>150.250000</td>\n",
       "      <td>2.915550e+07</td>\n",
       "      <td>3.004683e+06</td>\n",
       "      <td>0.571429</td>\n",
       "      <td>7.315300e+05</td>\n",
       "      <td>3.777033e+07</td>\n",
       "      <td>3.988590e+07</td>\n",
       "    </tr>\n",
       "    <tr>\n",
       "      <th>max</th>\n",
       "      <td>200.000000</td>\n",
       "      <td>3.219806e+07</td>\n",
       "      <td>2.496690e+07</td>\n",
       "      <td>27.714286</td>\n",
       "      <td>3.985882e+06</td>\n",
       "      <td>6.494895e+07</td>\n",
       "      <td>7.253922e+07</td>\n",
       "    </tr>\n",
       "  </tbody>\n",
       "</table>\n",
       "</div>"
      ],
      "text/plain": [
       "              rank   cm_track_id  current_plays     velocity  \\\n",
       "count  9800.000000  9.800000e+03   9.800000e+03  8389.000000   \n",
       "mean    100.500000  2.548459e+07   2.715603e+06    -0.887693   \n",
       "std      57.737251  4.876548e+06   1.739207e+06     3.332286   \n",
       "min       1.000000  1.098839e+07   1.350029e+06   -23.428571   \n",
       "25%      50.750000  2.235895e+07   1.724710e+06    -2.142857   \n",
       "50%     100.500000  2.743093e+07   2.096916e+06    -0.428571   \n",
       "75%     150.250000  2.915550e+07   3.004683e+06     0.571429   \n",
       "max     200.000000  3.219806e+07   2.496690e+07    27.714286   \n",
       "\n",
       "       secondfary_artist ID  Prim: Jan. 5-Listeners  Prim: Dec. 6-Listeners  \n",
       "count          3.807000e+03            9.800000e+03            9.800000e+03  \n",
       "mean           4.009504e+05            2.348214e+07            2.762713e+07  \n",
       "std            5.180206e+05            1.753592e+07            1.647063e+07  \n",
       "min            6.000000e+01            1.300000e+01            1.000000e+00  \n",
       "25%            4.215000e+03            7.992604e+06            1.364381e+07  \n",
       "50%            2.096930e+05            1.970453e+07            2.478516e+07  \n",
       "75%            7.315300e+05            3.777033e+07            3.988590e+07  \n",
       "max            3.985882e+06            6.494895e+07            7.253922e+07  "
      ]
     },
     "execution_count": 30,
     "metadata": {},
     "output_type": "execute_result"
    }
   ],
   "source": [
    "spotify2020.describe()"
   ]
  },
  {
   "cell_type": "code",
   "execution_count": 68,
   "metadata": {},
   "outputs": [],
   "source": [
    "#create a new feature\n",
    "spotify2020['artist_popularity_type'] = spotify2020['Prim: Jan. 5-Listeners'].apply(lambda x: 'emerging' if x <= spotify2020['Prim: Jan. 5-Listeners'].quantile(.25) \n",
    "                                            else ('established' if spotify2020['Prim: Jan. 5-Listeners'].quantile(.25) < x <= spotify2020['Prim: Jan. 5-Listeners'].quantile(.75)\n",
    "                                                  else 'superstar'))"
   ]
  },
  {
   "cell_type": "code",
   "execution_count": 69,
   "metadata": {},
   "outputs": [],
   "source": [
    "spotify2020.to_csv('spotify2020_v2.csv')"
   ]
  },
  {
   "cell_type": "markdown",
   "metadata": {},
   "source": [
    "## EDA"
   ]
  },
  {
   "cell_type": "code",
   "execution_count": 28,
   "metadata": {},
   "outputs": [],
   "source": [
    "import seaborn as sns"
   ]
  },
  {
   "cell_type": "code",
   "execution_count": null,
   "metadata": {},
   "outputs": [],
   "source": [
    "unique_artist_df"
   ]
  },
  {
   "cell_type": "code",
   "execution_count": null,
   "metadata": {},
   "outputs": [],
   "source": [
    "#look and listener distribution for January 5th\n",
    "\n",
    "unique_artist_df.describe()"
   ]
  },
  {
   "cell_type": "code",
   "execution_count": null,
   "metadata": {},
   "outputs": [],
   "source": [
    "#new dataframe of 25th percentile of artists - Jan5th\n",
    "lower25 = unique_artist_df.loc[unique_artist_df['Jan. 5-Listeners'] < unique_artist_df['Jan. 5-Listeners'].quantile(.25)]"
   ]
  },
  {
   "cell_type": "code",
   "execution_count": null,
   "metadata": {},
   "outputs": [],
   "source": [
    "#new feature of listener change between Jan and Dec\n",
    "lower25['listener_change'] = lower25['Dec. 6-Listeners'] - lower25['Jan. 5-Listeners']"
   ]
  },
  {
   "cell_type": "code",
   "execution_count": null,
   "metadata": {},
   "outputs": [],
   "source": [
    "#new feature of percent change is artist listeners\n",
    "def percent_change(x):\n",
    "    return ((x[1]- x[0])/x[0])*100"
   ]
  },
  {
   "cell_type": "code",
   "execution_count": null,
   "metadata": {},
   "outputs": [],
   "source": [
    "lower25['listener percent change %'] = lower25[['Jan. 5-Listeners', 'Dec. 6-Listeners']].apply(lambda x: percent_change(x), axis=1)"
   ]
  },
  {
   "cell_type": "code",
   "execution_count": null,
   "metadata": {},
   "outputs": [],
   "source": [
    "lower25.reset_index(inplace=True, drop=True)"
   ]
  },
  {
   "cell_type": "code",
   "execution_count": null,
   "metadata": {},
   "outputs": [],
   "source": [
    "#find artist with biggest percent gain in listeners\n",
    "\n",
    "top_emerging_artists = lower25.sort_values('listener percent change %', ascending=False).reset_index(drop=True)"
   ]
  },
  {
   "cell_type": "code",
   "execution_count": null,
   "metadata": {},
   "outputs": [],
   "source": [
    "\n",
    "\n",
    "top_emerging_artists['Jan. 5-Listeners'].apply(lambda x: \"{:,}\".format(x['Jan. 5-Listeners']))"
   ]
  },
  {
   "cell_type": "code",
   "execution_count": null,
   "metadata": {},
   "outputs": [],
   "source": [
    "#save top emerging artists to csv\n",
    "top_emerging_artists.to_csv('top_emerging_artists2020.csv', index_label='index')\n",
    "\n",
    "# top_emerging_artists = pd.read_csv('top_emerging_artists2020.csv', index_col=0)"
   ]
  },
  {
   "cell_type": "code",
   "execution_count": null,
   "metadata": {},
   "outputs": [],
   "source": [
    "listener_sorted = top_emerging_artists.sort_values('listener percent change %', ascending=False)\n",
    "top5 = listener_sorted.iloc[0:5, :]"
   ]
  },
  {
   "cell_type": "code",
   "execution_count": null,
   "metadata": {},
   "outputs": [],
   "source": [
    "top5.keys()"
   ]
  },
  {
   "cell_type": "code",
   "execution_count": null,
   "metadata": {},
   "outputs": [],
   "source": [
    "sns.barplot(top5['primary_artist'], top5['listener percent change %'], )\n",
    "plt.xticks(rotation=90)\n",
    "plt.tight_layout()\n",
    "plt.show()"
   ]
  },
  {
   "cell_type": "code",
   "execution_count": null,
   "metadata": {},
   "outputs": [],
   "source": [
    "top5brdg = top5[['title', 'primary_artist', 'Jan. 5-Listeners','Dec. 6-Listeners', 'listener_change', 'listener percent change %']]"
   ]
  },
  {
   "cell_type": "code",
   "execution_count": null,
   "metadata": {},
   "outputs": [],
   "source": [
    "tabulate(top5brdg, headers='keys', tablefmt = 'pretty')"
   ]
  },
  {
   "cell_type": "code",
   "execution_count": null,
   "metadata": {},
   "outputs": [],
   "source": [
    "top5brdg"
   ]
  },
  {
   "cell_type": "code",
   "execution_count": null,
   "metadata": {},
   "outputs": [],
   "source": []
  }
 ],
 "metadata": {
  "kernelspec": {
   "display_name": "Python 3",
   "language": "python",
   "name": "python3"
  },
  "language_info": {
   "codemirror_mode": {
    "name": "ipython",
    "version": 3
   },
   "file_extension": ".py",
   "mimetype": "text/x-python",
   "name": "python",
   "nbconvert_exporter": "python",
   "pygments_lexer": "ipython3",
   "version": "3.8.5"
  }
 },
 "nbformat": 4,
 "nbformat_minor": 4
}
