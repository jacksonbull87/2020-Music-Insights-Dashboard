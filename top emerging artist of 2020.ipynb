{
 "cells": [
  {
   "cell_type": "markdown",
   "metadata": {},
   "source": [
    "## Import Libraries"
   ]
  },
  {
   "cell_type": "code",
   "execution_count": 115,
   "metadata": {},
   "outputs": [],
   "source": [
    "import pandas as pd\n",
    "from cm_api import *\n",
    "from helper_funct import *\n",
    "from helper_funct1 import *\n",
    "from cm_config import config\n",
    "import matplotlib.pyplot as plt\n",
    "from tabulate import tabulate \n",
    "import seaborn as sns\n",
    "from scipy import stats"
   ]
  },
  {
   "cell_type": "markdown",
   "metadata": {},
   "source": [
    "## Request API Token"
   ]
  },
  {
   "cell_type": "code",
   "execution_count": 2,
   "metadata": {},
   "outputs": [],
   "source": [
    "api_token = get_api_token(config['refresh_token'])"
   ]
  },
  {
   "cell_type": "markdown",
   "metadata": {},
   "source": [
    "## Collect Top 200 Spotify Weekly Charts (US) for 2020"
   ]
  },
  {
   "cell_type": "markdown",
   "metadata": {},
   "source": [
    "### Create list of dates"
   ]
  },
  {
   "cell_type": "code",
   "execution_count": 3,
   "metadata": {},
   "outputs": [],
   "source": [
    "date_list = get_date_range('2020-01-01', '2020-12-11', 'W')"
   ]
  },
  {
   "cell_type": "code",
   "execution_count": 4,
   "metadata": {},
   "outputs": [
    {
     "data": {
      "text/plain": [
       "49"
      ]
     },
     "execution_count": 4,
     "metadata": {},
     "output_type": "execute_result"
    }
   ],
   "source": [
    "first_date = date_list[0]\n",
    "recent_date = date_list[-1]\n",
    "len(date_list)"
   ]
  },
  {
   "cell_type": "markdown",
   "metadata": {},
   "source": [
    "### Collect top tracks for 2020"
   ]
  },
  {
   "cell_type": "code",
   "execution_count": 5,
   "metadata": {},
   "outputs": [
    {
     "name": "stdout",
     "output_type": "stream",
     "text": [
      "1\n",
      "2\n",
      "3\n",
      "4\n",
      "5\n",
      "6\n",
      "7\n",
      "8\n",
      "9\n",
      "10\n",
      "11\n",
      "12\n",
      "13\n",
      "14\n",
      "15\n",
      "16\n",
      "17\n",
      "18\n",
      "19\n",
      "20\n",
      "21\n",
      "22\n",
      "23\n",
      "24\n",
      "25\n",
      "26\n",
      "27\n",
      "28\n",
      "29\n",
      "30\n",
      "31\n",
      "32\n",
      "33\n",
      "34\n",
      "35\n",
      "36\n",
      "37\n",
      "38\n",
      "39\n",
      "40\n",
      "41\n",
      "42\n",
      "43\n",
      "44\n",
      "45\n",
      "46\n",
      "47\n",
      "48\n",
      "49\n"
     ]
    }
   ],
   "source": [
    "counter = 0\n",
    "spotify_chart_data = []\n",
    "for date in date_list:\n",
    "    data = get_spotify_charts(api_token, date, 'US', 'regional', 'weekly')\n",
    "    counter += 1\n",
    "    print(counter)\n",
    "    for track in data:\n",
    "        track_tuple = (track['added_at'],track['rank'], track['name'], track['cm_track'], track['artist_names'],\n",
    "                      track['cm_artist'], track['current_plays'], track['time_on_chart'], track['velocity'])\n",
    "        spotify_chart_data.append(track_tuple)\n",
    "\n",
    "spotify2020 = pd.DataFrame(spotify_chart_data, columns=['add_date','rank', 'title', 'cm_track_id', 'artist_names', 'cm_artist_ids', 'current_plays', 'time_on_chart', 'velocity'])"
   ]
  },
  {
   "cell_type": "markdown",
   "metadata": {},
   "source": [
    "### Save raw data"
   ]
  },
  {
   "cell_type": "code",
   "execution_count": 6,
   "metadata": {},
   "outputs": [],
   "source": [
    "spotify2020.to_csv('spotify2020_raw.csv')"
   ]
  },
  {
   "cell_type": "code",
   "execution_count": 18,
   "metadata": {},
   "outputs": [
    {
     "data": {
      "text/html": [
       "<div>\n",
       "<style scoped>\n",
       "    .dataframe tbody tr th:only-of-type {\n",
       "        vertical-align: middle;\n",
       "    }\n",
       "\n",
       "    .dataframe tbody tr th {\n",
       "        vertical-align: top;\n",
       "    }\n",
       "\n",
       "    .dataframe thead th {\n",
       "        text-align: right;\n",
       "    }\n",
       "</style>\n",
       "<table border=\"1\" class=\"dataframe\">\n",
       "  <thead>\n",
       "    <tr style=\"text-align: right;\">\n",
       "      <th></th>\n",
       "      <th>add_date</th>\n",
       "      <th>rank</th>\n",
       "      <th>title</th>\n",
       "      <th>cm_track_id</th>\n",
       "      <th>artist_names</th>\n",
       "      <th>cm_artist_ids</th>\n",
       "      <th>current_plays</th>\n",
       "      <th>time_on_chart</th>\n",
       "      <th>velocity</th>\n",
       "      <th>primary_artist</th>\n",
       "      <th>secondary_artist</th>\n",
       "      <th>primary_artist ID</th>\n",
       "      <th>secondfary_artist ID</th>\n",
       "    </tr>\n",
       "  </thead>\n",
       "  <tbody>\n",
       "    <tr>\n",
       "      <th>0</th>\n",
       "      <td>2020-01-09T00:00:00.000Z</td>\n",
       "      <td>1</td>\n",
       "      <td>The Box</td>\n",
       "      <td>27599255</td>\n",
       "      <td>[Roddy Ricch]</td>\n",
       "      <td>[839964]</td>\n",
       "      <td>18952305</td>\n",
       "      <td>55</td>\n",
       "      <td>0.000000</td>\n",
       "      <td>Roddy Ricch</td>\n",
       "      <td>None</td>\n",
       "      <td>839964</td>\n",
       "      <td>NaN</td>\n",
       "    </tr>\n",
       "    <tr>\n",
       "      <th>1</th>\n",
       "      <td>2020-01-09T00:00:00.000Z</td>\n",
       "      <td>2</td>\n",
       "      <td>ROXANNE</td>\n",
       "      <td>27228348</td>\n",
       "      <td>[Arizona Zervas]</td>\n",
       "      <td>[64150]</td>\n",
       "      <td>9671478</td>\n",
       "      <td>57</td>\n",
       "      <td>0.000000</td>\n",
       "      <td>Arizona Zervas</td>\n",
       "      <td>None</td>\n",
       "      <td>64150</td>\n",
       "      <td>NaN</td>\n",
       "    </tr>\n",
       "    <tr>\n",
       "      <th>2</th>\n",
       "      <td>2020-01-09T00:00:00.000Z</td>\n",
       "      <td>3</td>\n",
       "      <td>Yummy</td>\n",
       "      <td>28077991</td>\n",
       "      <td>[Justin Bieber]</td>\n",
       "      <td>[3479]</td>\n",
       "      <td>9648561</td>\n",
       "      <td>6</td>\n",
       "      <td>NaN</td>\n",
       "      <td>Justin Bieber</td>\n",
       "      <td>None</td>\n",
       "      <td>3479</td>\n",
       "      <td>NaN</td>\n",
       "    </tr>\n",
       "    <tr>\n",
       "      <th>3</th>\n",
       "      <td>2020-01-09T00:00:00.000Z</td>\n",
       "      <td>4</td>\n",
       "      <td>Circles</td>\n",
       "      <td>25021708</td>\n",
       "      <td>[Post Malone]</td>\n",
       "      <td>[135326]</td>\n",
       "      <td>8244725</td>\n",
       "      <td>67</td>\n",
       "      <td>-0.142857</td>\n",
       "      <td>Post Malone</td>\n",
       "      <td>None</td>\n",
       "      <td>135326</td>\n",
       "      <td>NaN</td>\n",
       "    </tr>\n",
       "    <tr>\n",
       "      <th>4</th>\n",
       "      <td>2020-01-09T00:00:00.000Z</td>\n",
       "      <td>5</td>\n",
       "      <td>BOP</td>\n",
       "      <td>25358331</td>\n",
       "      <td>[DaBaby]</td>\n",
       "      <td>[398544]</td>\n",
       "      <td>7985170</td>\n",
       "      <td>65</td>\n",
       "      <td>-0.142857</td>\n",
       "      <td>DaBaby</td>\n",
       "      <td>None</td>\n",
       "      <td>398544</td>\n",
       "      <td>NaN</td>\n",
       "    </tr>\n",
       "  </tbody>\n",
       "</table>\n",
       "</div>"
      ],
      "text/plain": [
       "                   add_date  rank    title  cm_track_id      artist_names  \\\n",
       "0  2020-01-09T00:00:00.000Z     1  The Box     27599255     [Roddy Ricch]   \n",
       "1  2020-01-09T00:00:00.000Z     2  ROXANNE     27228348  [Arizona Zervas]   \n",
       "2  2020-01-09T00:00:00.000Z     3    Yummy     28077991   [Justin Bieber]   \n",
       "3  2020-01-09T00:00:00.000Z     4  Circles     25021708     [Post Malone]   \n",
       "4  2020-01-09T00:00:00.000Z     5      BOP     25358331          [DaBaby]   \n",
       "\n",
       "  cm_artist_ids  current_plays time_on_chart  velocity  primary_artist  \\\n",
       "0      [839964]       18952305            55  0.000000     Roddy Ricch   \n",
       "1       [64150]        9671478            57  0.000000  Arizona Zervas   \n",
       "2        [3479]        9648561             6       NaN   Justin Bieber   \n",
       "3      [135326]        8244725            67 -0.142857     Post Malone   \n",
       "4      [398544]        7985170            65 -0.142857          DaBaby   \n",
       "\n",
       "  secondary_artist primary_artist ID  secondfary_artist ID  \n",
       "0             None            839964                   NaN  \n",
       "1             None             64150                   NaN  \n",
       "2             None              3479                   NaN  \n",
       "3             None            135326                   NaN  \n",
       "4             None            398544                   NaN  "
      ]
     },
     "execution_count": 18,
     "metadata": {},
     "output_type": "execute_result"
    }
   ],
   "source": [
    "spotify2020.head()"
   ]
  },
  {
   "cell_type": "code",
   "execution_count": null,
   "metadata": {},
   "outputs": [],
   "source": [
    "#convert artist id to string\n",
    "spotify2020['primary_artist ID'] = spotify2020['primary_artist ID'].astype('int64')"
   ]
  },
  {
   "cell_type": "code",
   "execution_count": null,
   "metadata": {},
   "outputs": [],
   "source": [
    "spotify2020.keys()"
   ]
  },
  {
   "cell_type": "code",
   "execution_count": 10,
   "metadata": {},
   "outputs": [],
   "source": [
    "#create primary artist feature\n",
    "\n",
    "spotify2020['primary_artist'] = spotify2020['artist_names'].apply(lambda x: x[0])"
   ]
  },
  {
   "cell_type": "code",
   "execution_count": 11,
   "metadata": {},
   "outputs": [],
   "source": [
    "#create secondary artist feature\n",
    "\n",
    "spotify2020['secondary_artist'] = spotify2020['artist_names'].apply(lambda x: x[1] if len(x) > 1 else None)"
   ]
  },
  {
   "cell_type": "code",
   "execution_count": 12,
   "metadata": {},
   "outputs": [],
   "source": [
    "#create primary artist ID feature\n",
    "\n",
    "spotify2020['primary_artist ID'] = spotify2020['cm_artist_ids'].apply(lambda x: x[0])\n",
    "#convert artist id to string\n",
    "spotify2020['primary_artist ID'] = spotify2020['primary_artist ID'].astype('str')"
   ]
  },
  {
   "cell_type": "code",
   "execution_count": 13,
   "metadata": {},
   "outputs": [],
   "source": [
    "#create secondary artist ID feature\n",
    "\n",
    "spotify2020['secondfary_artist ID'] = spotify2020['cm_artist_ids'].apply(lambda x: x[1] if len(x) > 1 else None)"
   ]
  },
  {
   "cell_type": "code",
   "execution_count": 14,
   "metadata": {},
   "outputs": [
    {
     "data": {
      "text/plain": [
       "336"
      ]
     },
     "execution_count": 14,
     "metadata": {},
     "output_type": "execute_result"
    }
   ],
   "source": [
    "#how many unique artists?\n",
    "spotify2020['primary_artist'].nunique()"
   ]
  },
  {
   "cell_type": "code",
   "execution_count": 15,
   "metadata": {},
   "outputs": [],
   "source": [
    "unique_partists = list(spotify2020['primary_artist'].unique())"
   ]
  },
  {
   "cell_type": "code",
   "execution_count": 16,
   "metadata": {},
   "outputs": [],
   "source": [
    "unique_pids = list(spotify2020['primary_artist ID'].unique())"
   ]
  },
  {
   "cell_type": "code",
   "execution_count": 17,
   "metadata": {},
   "outputs": [],
   "source": [
    "#create a dictionary of artist : artist id\n",
    "\n",
    "primary_artist_dict = dict(zip(unique_partists, unique_pids)) "
   ]
  },
  {
   "cell_type": "code",
   "execution_count": null,
   "metadata": {},
   "outputs": [],
   "source": []
  },
  {
   "cell_type": "code",
   "execution_count": 19,
   "metadata": {},
   "outputs": [],
   "source": [
    "artist_listener_data = []\n",
    "\n",
    "for k,v in primary_artist_dict.items():\n",
    "    listener_data = get_fan_metrics(api_token, v, 'spotify', first_date, recent_date, field='listeners')['listeners']\n",
    "    listener_tuple = (k, v, listener_data[0]['value'], listener_data[-1]['value'])\n",
    "    artist_listener_data.append(listener_tuple)\n",
    "    \n",
    "    "
   ]
  },
  {
   "cell_type": "code",
   "execution_count": 20,
   "metadata": {},
   "outputs": [],
   "source": [
    "#create lists for unique primary artist ids, first spotify listens, recent spotify listens\n",
    "\n",
    "first_listeners = []\n",
    "recent_listeners = []\n",
    "artist_ids = []\n",
    "\n",
    "for tup in artist_listener_data:\n",
    "    artist_ids.append(tup[1])\n",
    "    first_listeners.append(tup[2])\n",
    "    recent_listeners.append(tup[3])"
   ]
  },
  {
   "cell_type": "code",
   "execution_count": 21,
   "metadata": {},
   "outputs": [],
   "source": [
    "#create dictionaries for first and recent listeners\n",
    "\n",
    "prim_artist_firstlist_di = dict(zip(artist_ids, first_listeners))\n",
    "prim_artist_recentlist_di = dict(zip(artist_ids, recent_listeners))"
   ]
  },
  {
   "cell_type": "code",
   "execution_count": 22,
   "metadata": {},
   "outputs": [],
   "source": [
    "#create a new features of first and recent listeners for each unique primary artist\n",
    "\n",
    "spotify2020['Prim: Jan. 5-Listeners'] = spotify2020['primary_artist ID'].map(prim_artist_firstlist_di)\n",
    "spotify2020['Prim: Dec. 6-Listeners'] = spotify2020['primary_artist ID'].map(prim_artist_recentlist_di)"
   ]
  },
  {
   "cell_type": "code",
   "execution_count": 67,
   "metadata": {},
   "outputs": [
    {
     "data": {
      "text/html": [
       "<div>\n",
       "<style scoped>\n",
       "    .dataframe tbody tr th:only-of-type {\n",
       "        vertical-align: middle;\n",
       "    }\n",
       "\n",
       "    .dataframe tbody tr th {\n",
       "        vertical-align: top;\n",
       "    }\n",
       "\n",
       "    .dataframe thead th {\n",
       "        text-align: right;\n",
       "    }\n",
       "</style>\n",
       "<table border=\"1\" class=\"dataframe\">\n",
       "  <thead>\n",
       "    <tr style=\"text-align: right;\">\n",
       "      <th></th>\n",
       "      <th>add_date</th>\n",
       "      <th>rank</th>\n",
       "      <th>title</th>\n",
       "      <th>cm_track_id</th>\n",
       "      <th>artist_names</th>\n",
       "      <th>cm_artist_ids</th>\n",
       "      <th>current_plays</th>\n",
       "      <th>time_on_chart</th>\n",
       "      <th>velocity</th>\n",
       "      <th>primary_artist</th>\n",
       "      <th>secondary_artist</th>\n",
       "      <th>primary_artist ID</th>\n",
       "      <th>secondfary_artist ID</th>\n",
       "      <th>Prim: Jan. 5-Listeners</th>\n",
       "      <th>Prim: Dec. 6-Listeners</th>\n",
       "    </tr>\n",
       "  </thead>\n",
       "  <tbody>\n",
       "    <tr>\n",
       "      <th>0</th>\n",
       "      <td>2020-01-09T00:00:00.000Z</td>\n",
       "      <td>1</td>\n",
       "      <td>The Box</td>\n",
       "      <td>27599255</td>\n",
       "      <td>[Roddy Ricch]</td>\n",
       "      <td>[839964]</td>\n",
       "      <td>18952305</td>\n",
       "      <td>55</td>\n",
       "      <td>0.000000</td>\n",
       "      <td>Roddy Ricch</td>\n",
       "      <td>None</td>\n",
       "      <td>839964</td>\n",
       "      <td>NaN</td>\n",
       "      <td>19014642</td>\n",
       "      <td>21923722</td>\n",
       "    </tr>\n",
       "    <tr>\n",
       "      <th>1</th>\n",
       "      <td>2020-01-09T00:00:00.000Z</td>\n",
       "      <td>2</td>\n",
       "      <td>ROXANNE</td>\n",
       "      <td>27228348</td>\n",
       "      <td>[Arizona Zervas]</td>\n",
       "      <td>[64150]</td>\n",
       "      <td>9671478</td>\n",
       "      <td>57</td>\n",
       "      <td>0.000000</td>\n",
       "      <td>Arizona Zervas</td>\n",
       "      <td>None</td>\n",
       "      <td>64150</td>\n",
       "      <td>NaN</td>\n",
       "      <td>28519561</td>\n",
       "      <td>12499023</td>\n",
       "    </tr>\n",
       "    <tr>\n",
       "      <th>2</th>\n",
       "      <td>2020-01-09T00:00:00.000Z</td>\n",
       "      <td>3</td>\n",
       "      <td>Yummy</td>\n",
       "      <td>28077991</td>\n",
       "      <td>[Justin Bieber]</td>\n",
       "      <td>[3479]</td>\n",
       "      <td>9648561</td>\n",
       "      <td>6</td>\n",
       "      <td>NaN</td>\n",
       "      <td>Justin Bieber</td>\n",
       "      <td>None</td>\n",
       "      <td>3479</td>\n",
       "      <td>NaN</td>\n",
       "      <td>59053556</td>\n",
       "      <td>72539216</td>\n",
       "    </tr>\n",
       "    <tr>\n",
       "      <th>3</th>\n",
       "      <td>2020-01-09T00:00:00.000Z</td>\n",
       "      <td>4</td>\n",
       "      <td>Circles</td>\n",
       "      <td>25021708</td>\n",
       "      <td>[Post Malone]</td>\n",
       "      <td>[135326]</td>\n",
       "      <td>8244725</td>\n",
       "      <td>67</td>\n",
       "      <td>-0.142857</td>\n",
       "      <td>Post Malone</td>\n",
       "      <td>None</td>\n",
       "      <td>135326</td>\n",
       "      <td>NaN</td>\n",
       "      <td>59360500</td>\n",
       "      <td>41224314</td>\n",
       "    </tr>\n",
       "    <tr>\n",
       "      <th>4</th>\n",
       "      <td>2020-01-09T00:00:00.000Z</td>\n",
       "      <td>5</td>\n",
       "      <td>BOP</td>\n",
       "      <td>25358331</td>\n",
       "      <td>[DaBaby]</td>\n",
       "      <td>[398544]</td>\n",
       "      <td>7985170</td>\n",
       "      <td>65</td>\n",
       "      <td>-0.142857</td>\n",
       "      <td>DaBaby</td>\n",
       "      <td>None</td>\n",
       "      <td>398544</td>\n",
       "      <td>NaN</td>\n",
       "      <td>21300480</td>\n",
       "      <td>42133931</td>\n",
       "    </tr>\n",
       "    <tr>\n",
       "      <th>...</th>\n",
       "      <td>...</td>\n",
       "      <td>...</td>\n",
       "      <td>...</td>\n",
       "      <td>...</td>\n",
       "      <td>...</td>\n",
       "      <td>...</td>\n",
       "      <td>...</td>\n",
       "      <td>...</td>\n",
       "      <td>...</td>\n",
       "      <td>...</td>\n",
       "      <td>...</td>\n",
       "      <td>...</td>\n",
       "      <td>...</td>\n",
       "      <td>...</td>\n",
       "      <td>...</td>\n",
       "    </tr>\n",
       "    <tr>\n",
       "      <th>9795</th>\n",
       "      <td>2020-12-10T00:00:00.000Z</td>\n",
       "      <td>196</td>\n",
       "      <td>SICKO MODE</td>\n",
       "      <td>20318958</td>\n",
       "      <td>[Travis Scott]</td>\n",
       "      <td>[4215]</td>\n",
       "      <td>1707997</td>\n",
       "      <td>123</td>\n",
       "      <td>-1.857143</td>\n",
       "      <td>Travis Scott</td>\n",
       "      <td>None</td>\n",
       "      <td>4215</td>\n",
       "      <td>NaN</td>\n",
       "      <td>38669161</td>\n",
       "      <td>39381880</td>\n",
       "    </tr>\n",
       "    <tr>\n",
       "      <th>9796</th>\n",
       "      <td>2020-12-10T00:00:00.000Z</td>\n",
       "      <td>197</td>\n",
       "      <td>Beautiful Crazy</td>\n",
       "      <td>19173498</td>\n",
       "      <td>[Luke Combs]</td>\n",
       "      <td>[207759]</td>\n",
       "      <td>1707684</td>\n",
       "      <td>125</td>\n",
       "      <td>-3.142857</td>\n",
       "      <td>Luke Combs</td>\n",
       "      <td>None</td>\n",
       "      <td>207759</td>\n",
       "      <td>NaN</td>\n",
       "      <td>7904711</td>\n",
       "      <td>11328621</td>\n",
       "    </tr>\n",
       "    <tr>\n",
       "      <th>9797</th>\n",
       "      <td>2020-12-10T00:00:00.000Z</td>\n",
       "      <td>198</td>\n",
       "      <td>Just The Two Of Us (feat. Bill Withers)</td>\n",
       "      <td>15275075</td>\n",
       "      <td>[Grover Washington, Jr., Bill Withers]</td>\n",
       "      <td>[11492, 822]</td>\n",
       "      <td>1704552</td>\n",
       "      <td>1</td>\n",
       "      <td>NaN</td>\n",
       "      <td>Grover Washington, Jr.</td>\n",
       "      <td>Bill Withers</td>\n",
       "      <td>11492</td>\n",
       "      <td>822.0</td>\n",
       "      <td>1036884</td>\n",
       "      <td>4072160</td>\n",
       "    </tr>\n",
       "    <tr>\n",
       "      <th>9798</th>\n",
       "      <td>2020-12-10T00:00:00.000Z</td>\n",
       "      <td>199</td>\n",
       "      <td>The Less I Know The Better</td>\n",
       "      <td>11020231</td>\n",
       "      <td>[Tame Impala]</td>\n",
       "      <td>[3315]</td>\n",
       "      <td>1702908</td>\n",
       "      <td>65</td>\n",
       "      <td>-0.428571</td>\n",
       "      <td>Tame Impala</td>\n",
       "      <td>None</td>\n",
       "      <td>3315</td>\n",
       "      <td>NaN</td>\n",
       "      <td>10849722</td>\n",
       "      <td>13643806</td>\n",
       "    </tr>\n",
       "    <tr>\n",
       "      <th>9799</th>\n",
       "      <td>2020-12-10T00:00:00.000Z</td>\n",
       "      <td>200</td>\n",
       "      <td>Drip Too Hard (Lil Baby &amp; Gunna)</td>\n",
       "      <td>20556655</td>\n",
       "      <td>[Lil Baby, Gunna]</td>\n",
       "      <td>[731530, 620149]</td>\n",
       "      <td>1681430</td>\n",
       "      <td>114</td>\n",
       "      <td>-0.142857</td>\n",
       "      <td>Lil Baby</td>\n",
       "      <td>Gunna</td>\n",
       "      <td>731530</td>\n",
       "      <td>620149.0</td>\n",
       "      <td>16923931</td>\n",
       "      <td>17910987</td>\n",
       "    </tr>\n",
       "  </tbody>\n",
       "</table>\n",
       "<p>9800 rows × 15 columns</p>\n",
       "</div>"
      ],
      "text/plain": [
       "                      add_date  rank                                    title  \\\n",
       "0     2020-01-09T00:00:00.000Z     1                                  The Box   \n",
       "1     2020-01-09T00:00:00.000Z     2                                  ROXANNE   \n",
       "2     2020-01-09T00:00:00.000Z     3                                    Yummy   \n",
       "3     2020-01-09T00:00:00.000Z     4                                  Circles   \n",
       "4     2020-01-09T00:00:00.000Z     5                                      BOP   \n",
       "...                        ...   ...                                      ...   \n",
       "9795  2020-12-10T00:00:00.000Z   196                               SICKO MODE   \n",
       "9796  2020-12-10T00:00:00.000Z   197                          Beautiful Crazy   \n",
       "9797  2020-12-10T00:00:00.000Z   198  Just The Two Of Us (feat. Bill Withers)   \n",
       "9798  2020-12-10T00:00:00.000Z   199               The Less I Know The Better   \n",
       "9799  2020-12-10T00:00:00.000Z   200         Drip Too Hard (Lil Baby & Gunna)   \n",
       "\n",
       "      cm_track_id                            artist_names     cm_artist_ids  \\\n",
       "0        27599255                           [Roddy Ricch]          [839964]   \n",
       "1        27228348                        [Arizona Zervas]           [64150]   \n",
       "2        28077991                         [Justin Bieber]            [3479]   \n",
       "3        25021708                           [Post Malone]          [135326]   \n",
       "4        25358331                                [DaBaby]          [398544]   \n",
       "...           ...                                     ...               ...   \n",
       "9795     20318958                          [Travis Scott]            [4215]   \n",
       "9796     19173498                            [Luke Combs]          [207759]   \n",
       "9797     15275075  [Grover Washington, Jr., Bill Withers]      [11492, 822]   \n",
       "9798     11020231                           [Tame Impala]            [3315]   \n",
       "9799     20556655                       [Lil Baby, Gunna]  [731530, 620149]   \n",
       "\n",
       "      current_plays time_on_chart  velocity          primary_artist  \\\n",
       "0          18952305            55  0.000000             Roddy Ricch   \n",
       "1           9671478            57  0.000000          Arizona Zervas   \n",
       "2           9648561             6       NaN           Justin Bieber   \n",
       "3           8244725            67 -0.142857             Post Malone   \n",
       "4           7985170            65 -0.142857                  DaBaby   \n",
       "...             ...           ...       ...                     ...   \n",
       "9795        1707997           123 -1.857143            Travis Scott   \n",
       "9796        1707684           125 -3.142857              Luke Combs   \n",
       "9797        1704552             1       NaN  Grover Washington, Jr.   \n",
       "9798        1702908            65 -0.428571             Tame Impala   \n",
       "9799        1681430           114 -0.142857                Lil Baby   \n",
       "\n",
       "     secondary_artist primary_artist ID  secondfary_artist ID  \\\n",
       "0                None            839964                   NaN   \n",
       "1                None             64150                   NaN   \n",
       "2                None              3479                   NaN   \n",
       "3                None            135326                   NaN   \n",
       "4                None            398544                   NaN   \n",
       "...               ...               ...                   ...   \n",
       "9795             None              4215                   NaN   \n",
       "9796             None            207759                   NaN   \n",
       "9797     Bill Withers             11492                 822.0   \n",
       "9798             None              3315                   NaN   \n",
       "9799            Gunna            731530              620149.0   \n",
       "\n",
       "      Prim: Jan. 5-Listeners  Prim: Dec. 6-Listeners  \n",
       "0                   19014642                21923722  \n",
       "1                   28519561                12499023  \n",
       "2                   59053556                72539216  \n",
       "3                   59360500                41224314  \n",
       "4                   21300480                42133931  \n",
       "...                      ...                     ...  \n",
       "9795                38669161                39381880  \n",
       "9796                 7904711                11328621  \n",
       "9797                 1036884                 4072160  \n",
       "9798                10849722                13643806  \n",
       "9799                16923931                17910987  \n",
       "\n",
       "[9800 rows x 15 columns]"
      ]
     },
     "execution_count": 67,
     "metadata": {},
     "output_type": "execute_result"
    }
   ],
   "source": [
    "spotify2020"
   ]
  },
  {
   "cell_type": "code",
   "execution_count": 24,
   "metadata": {},
   "outputs": [],
   "source": [
    "spotify2020.to_csv('spotify2020_v1.csv')"
   ]
  },
  {
   "cell_type": "code",
   "execution_count": null,
   "metadata": {},
   "outputs": [],
   "source": []
  },
  {
   "cell_type": "markdown",
   "metadata": {},
   "source": [
    "## Artist Type Feature\n",
    "This feature indicates whether or not the artist is considered \"emerging\", \"established\", or \"super\" based on\n",
    "the number of spotify listeners early in the year (January 5th)"
   ]
  },
  {
   "cell_type": "code",
   "execution_count": 30,
   "metadata": {},
   "outputs": [
    {
     "data": {
      "text/html": [
       "<div>\n",
       "<style scoped>\n",
       "    .dataframe tbody tr th:only-of-type {\n",
       "        vertical-align: middle;\n",
       "    }\n",
       "\n",
       "    .dataframe tbody tr th {\n",
       "        vertical-align: top;\n",
       "    }\n",
       "\n",
       "    .dataframe thead th {\n",
       "        text-align: right;\n",
       "    }\n",
       "</style>\n",
       "<table border=\"1\" class=\"dataframe\">\n",
       "  <thead>\n",
       "    <tr style=\"text-align: right;\">\n",
       "      <th></th>\n",
       "      <th>rank</th>\n",
       "      <th>cm_track_id</th>\n",
       "      <th>current_plays</th>\n",
       "      <th>velocity</th>\n",
       "      <th>secondfary_artist ID</th>\n",
       "      <th>Prim: Jan. 5-Listeners</th>\n",
       "      <th>Prim: Dec. 6-Listeners</th>\n",
       "    </tr>\n",
       "  </thead>\n",
       "  <tbody>\n",
       "    <tr>\n",
       "      <th>count</th>\n",
       "      <td>9800.000000</td>\n",
       "      <td>9.800000e+03</td>\n",
       "      <td>9.800000e+03</td>\n",
       "      <td>8389.000000</td>\n",
       "      <td>3.807000e+03</td>\n",
       "      <td>9.800000e+03</td>\n",
       "      <td>9.800000e+03</td>\n",
       "    </tr>\n",
       "    <tr>\n",
       "      <th>mean</th>\n",
       "      <td>100.500000</td>\n",
       "      <td>2.548459e+07</td>\n",
       "      <td>2.715603e+06</td>\n",
       "      <td>-0.887693</td>\n",
       "      <td>4.009504e+05</td>\n",
       "      <td>2.348214e+07</td>\n",
       "      <td>2.762713e+07</td>\n",
       "    </tr>\n",
       "    <tr>\n",
       "      <th>std</th>\n",
       "      <td>57.737251</td>\n",
       "      <td>4.876548e+06</td>\n",
       "      <td>1.739207e+06</td>\n",
       "      <td>3.332286</td>\n",
       "      <td>5.180206e+05</td>\n",
       "      <td>1.753592e+07</td>\n",
       "      <td>1.647063e+07</td>\n",
       "    </tr>\n",
       "    <tr>\n",
       "      <th>min</th>\n",
       "      <td>1.000000</td>\n",
       "      <td>1.098839e+07</td>\n",
       "      <td>1.350029e+06</td>\n",
       "      <td>-23.428571</td>\n",
       "      <td>6.000000e+01</td>\n",
       "      <td>1.300000e+01</td>\n",
       "      <td>1.000000e+00</td>\n",
       "    </tr>\n",
       "    <tr>\n",
       "      <th>25%</th>\n",
       "      <td>50.750000</td>\n",
       "      <td>2.235895e+07</td>\n",
       "      <td>1.724710e+06</td>\n",
       "      <td>-2.142857</td>\n",
       "      <td>4.215000e+03</td>\n",
       "      <td>7.992604e+06</td>\n",
       "      <td>1.364381e+07</td>\n",
       "    </tr>\n",
       "    <tr>\n",
       "      <th>50%</th>\n",
       "      <td>100.500000</td>\n",
       "      <td>2.743093e+07</td>\n",
       "      <td>2.096916e+06</td>\n",
       "      <td>-0.428571</td>\n",
       "      <td>2.096930e+05</td>\n",
       "      <td>1.970453e+07</td>\n",
       "      <td>2.478516e+07</td>\n",
       "    </tr>\n",
       "    <tr>\n",
       "      <th>75%</th>\n",
       "      <td>150.250000</td>\n",
       "      <td>2.915550e+07</td>\n",
       "      <td>3.004683e+06</td>\n",
       "      <td>0.571429</td>\n",
       "      <td>7.315300e+05</td>\n",
       "      <td>3.777033e+07</td>\n",
       "      <td>3.988590e+07</td>\n",
       "    </tr>\n",
       "    <tr>\n",
       "      <th>max</th>\n",
       "      <td>200.000000</td>\n",
       "      <td>3.219806e+07</td>\n",
       "      <td>2.496690e+07</td>\n",
       "      <td>27.714286</td>\n",
       "      <td>3.985882e+06</td>\n",
       "      <td>6.494895e+07</td>\n",
       "      <td>7.253922e+07</td>\n",
       "    </tr>\n",
       "  </tbody>\n",
       "</table>\n",
       "</div>"
      ],
      "text/plain": [
       "              rank   cm_track_id  current_plays     velocity  \\\n",
       "count  9800.000000  9.800000e+03   9.800000e+03  8389.000000   \n",
       "mean    100.500000  2.548459e+07   2.715603e+06    -0.887693   \n",
       "std      57.737251  4.876548e+06   1.739207e+06     3.332286   \n",
       "min       1.000000  1.098839e+07   1.350029e+06   -23.428571   \n",
       "25%      50.750000  2.235895e+07   1.724710e+06    -2.142857   \n",
       "50%     100.500000  2.743093e+07   2.096916e+06    -0.428571   \n",
       "75%     150.250000  2.915550e+07   3.004683e+06     0.571429   \n",
       "max     200.000000  3.219806e+07   2.496690e+07    27.714286   \n",
       "\n",
       "       secondfary_artist ID  Prim: Jan. 5-Listeners  Prim: Dec. 6-Listeners  \n",
       "count          3.807000e+03            9.800000e+03            9.800000e+03  \n",
       "mean           4.009504e+05            2.348214e+07            2.762713e+07  \n",
       "std            5.180206e+05            1.753592e+07            1.647063e+07  \n",
       "min            6.000000e+01            1.300000e+01            1.000000e+00  \n",
       "25%            4.215000e+03            7.992604e+06            1.364381e+07  \n",
       "50%            2.096930e+05            1.970453e+07            2.478516e+07  \n",
       "75%            7.315300e+05            3.777033e+07            3.988590e+07  \n",
       "max            3.985882e+06            6.494895e+07            7.253922e+07  "
      ]
     },
     "execution_count": 30,
     "metadata": {},
     "output_type": "execute_result"
    }
   ],
   "source": [
    "spotify2020.describe()"
   ]
  },
  {
   "cell_type": "code",
   "execution_count": 68,
   "metadata": {},
   "outputs": [],
   "source": [
    "#create a new feature\n",
    "spotify2020['artist_popularity_type'] = spotify2020['Prim: Jan. 5-Listeners'].apply(lambda x: 'emerging' if x <= spotify2020['Prim: Jan. 5-Listeners'].quantile(.25) \n",
    "                                            else ('established' if spotify2020['Prim: Jan. 5-Listeners'].quantile(.25) < x <= spotify2020['Prim: Jan. 5-Listeners'].quantile(.75)\n",
    "                                                  else 'superstar'))"
   ]
  },
  {
   "cell_type": "code",
   "execution_count": 2,
   "metadata": {},
   "outputs": [],
   "source": [
    "# spotify2020.to_csv('spotify2020_v2.csv')\n",
    "spotify2020 = pd.read_csv('data collection/spotify2020_v2.csv', index_col=0)\n"
   ]
  },
  {
   "cell_type": "markdown",
   "metadata": {},
   "source": [
    "## Remove duplicate track names\n",
    "keep track with highlest velocity"
   ]
  },
  {
   "cell_type": "code",
   "execution_count": 59,
   "metadata": {},
   "outputs": [],
   "source": [
    "from collections import Counter\n"
   ]
  },
  {
   "cell_type": "code",
   "execution_count": 61,
   "metadata": {},
   "outputs": [],
   "source": [
    "title_list = list(spotify2020['title'])"
   ]
  },
  {
   "cell_type": "code",
   "execution_count": 66,
   "metadata": {},
   "outputs": [],
   "source": [
    "title_countdi = dict(Counter(title_list))\n"
   ]
  },
  {
   "cell_type": "code",
   "execution_count": 72,
   "metadata": {},
   "outputs": [],
   "source": [
    "#create a list of tracks that are duplicates\n",
    "duplicated_tracks = []\n",
    "for k,v in title_countdi.items():\n",
    "    if v > 1:\n",
    "        duplicated_tracks.append(k)\n",
    "        \n",
    "#create list of tracks with one chart occurance\n",
    "single_charted_tracks = []\n",
    "for k,v in title_countdi.items():\n",
    "    if v == 1:\n",
    "        single_charted_tracks.append(k)"
   ]
  },
  {
   "cell_type": "code",
   "execution_count": 73,
   "metadata": {},
   "outputs": [
    {
     "name": "stdout",
     "output_type": "stream",
     "text": [
      "# of tracks that occurred on chart more than once:  752\n",
      "# of tracks that occurred on chart monly once:  478\n"
     ]
    }
   ],
   "source": [
    "print(\"# of tracks that occurred on chart more than once: \", len(duplicated_tracks))\n",
    "print(\"# of tracks that occurred on chart monly once: \", len(single_charted_tracks))"
   ]
  },
  {
   "cell_type": "code",
   "execution_count": 81,
   "metadata": {},
   "outputs": [],
   "source": [
    "def get_tracks_maxv(title, dataframe):\n",
    "    #input track title, return title's max velocity\n",
    "    return dataframe.loc[dataframe['title'] == title]['velocity'].max()"
   ]
  },
  {
   "cell_type": "code",
   "execution_count": 84,
   "metadata": {},
   "outputs": [],
   "source": [
    "spotify2020['max velocity'] = spotify2020['title'].apply(lambda x: get_tracks_maxv(x, spotify2020))"
   ]
  },
  {
   "cell_type": "code",
   "execution_count": 87,
   "metadata": {},
   "outputs": [],
   "source": [
    "no_dups = spotify2020.drop_duplicates(subset=['title'], keep='last').reset_index(drop=True)"
   ]
  },
  {
   "cell_type": "code",
   "execution_count": 109,
   "metadata": {},
   "outputs": [],
   "source": [
    "#save data as version 3\n",
    "no_dups.to_csv('data collection/spotify2020_v3(no-dups).csv')"
   ]
  },
  {
   "cell_type": "markdown",
   "metadata": {},
   "source": [
    "## EDA"
   ]
  },
  {
   "cell_type": "markdown",
   "metadata": {},
   "source": [
    "### Velocity vs Time on Chart"
   ]
  },
  {
   "cell_type": "code",
   "execution_count": 110,
   "metadata": {},
   "outputs": [
    {
     "data": {
      "text/html": [
       "<div>\n",
       "<style scoped>\n",
       "    .dataframe tbody tr th:only-of-type {\n",
       "        vertical-align: middle;\n",
       "    }\n",
       "\n",
       "    .dataframe tbody tr th {\n",
       "        vertical-align: top;\n",
       "    }\n",
       "\n",
       "    .dataframe thead th {\n",
       "        text-align: right;\n",
       "    }\n",
       "</style>\n",
       "<table border=\"1\" class=\"dataframe\">\n",
       "  <thead>\n",
       "    <tr style=\"text-align: right;\">\n",
       "      <th></th>\n",
       "      <th>add_date</th>\n",
       "      <th>rank</th>\n",
       "      <th>title</th>\n",
       "      <th>cm_track_id</th>\n",
       "      <th>artist_names</th>\n",
       "      <th>cm_artist_ids</th>\n",
       "      <th>current_plays</th>\n",
       "      <th>time_on_chart</th>\n",
       "      <th>velocity</th>\n",
       "      <th>primary_artist</th>\n",
       "      <th>secondary_artist</th>\n",
       "      <th>primary_artist ID</th>\n",
       "      <th>secondfary_artist ID</th>\n",
       "      <th>Prim: Jan. 5-Listeners</th>\n",
       "      <th>Prim: Dec. 6-Listeners</th>\n",
       "      <th>artist_popularity_type</th>\n",
       "      <th>max velocity</th>\n",
       "    </tr>\n",
       "  </thead>\n",
       "  <tbody>\n",
       "    <tr>\n",
       "      <th>0</th>\n",
       "      <td>2020-01-09T00:00:00.000Z</td>\n",
       "      <td>36</td>\n",
       "      <td>Writing on the Wall</td>\n",
       "      <td>25351517</td>\n",
       "      <td>['French Montana', 'Post Malone', 'Cardi B', '...</td>\n",
       "      <td>[3754, 135326, 200408, 214112]</td>\n",
       "      <td>3695717</td>\n",
       "      <td>3</td>\n",
       "      <td>-0.142857</td>\n",
       "      <td>French Montana</td>\n",
       "      <td>Post Malone</td>\n",
       "      <td>3754</td>\n",
       "      <td>135326.0</td>\n",
       "      <td>20521868</td>\n",
       "      <td>15345601</td>\n",
       "      <td>established</td>\n",
       "      <td>-0.142857</td>\n",
       "    </tr>\n",
       "    <tr>\n",
       "      <th>1</th>\n",
       "      <td>2020-01-09T00:00:00.000Z</td>\n",
       "      <td>146</td>\n",
       "      <td>Love Me More</td>\n",
       "      <td>26809533</td>\n",
       "      <td>['Trippie Redd']</td>\n",
       "      <td>[526471]</td>\n",
       "      <td>1806170</td>\n",
       "      <td>6</td>\n",
       "      <td>2.571429</td>\n",
       "      <td>Trippie Redd</td>\n",
       "      <td>NaN</td>\n",
       "      <td>526471</td>\n",
       "      <td>NaN</td>\n",
       "      <td>14643705</td>\n",
       "      <td>15492508</td>\n",
       "      <td>established</td>\n",
       "      <td>2.571429</td>\n",
       "    </tr>\n",
       "    <tr>\n",
       "      <th>2</th>\n",
       "      <td>2020-01-09T00:00:00.000Z</td>\n",
       "      <td>161</td>\n",
       "      <td>Millions</td>\n",
       "      <td>27921981</td>\n",
       "      <td>['Young Thug']</td>\n",
       "      <td>[4517]</td>\n",
       "      <td>1712574</td>\n",
       "      <td>3</td>\n",
       "      <td>-3.285714</td>\n",
       "      <td>Young Thug</td>\n",
       "      <td>NaN</td>\n",
       "      <td>4517</td>\n",
       "      <td>NaN</td>\n",
       "      <td>21155993</td>\n",
       "      <td>28654596</td>\n",
       "      <td>established</td>\n",
       "      <td>-3.285714</td>\n",
       "    </tr>\n",
       "    <tr>\n",
       "      <th>3</th>\n",
       "      <td>2020-01-09T00:00:00.000Z</td>\n",
       "      <td>166</td>\n",
       "      <td>High Hopes</td>\n",
       "      <td>19332635</td>\n",
       "      <td>['Panic! At The Disco']</td>\n",
       "      <td>[2260]</td>\n",
       "      <td>1679097</td>\n",
       "      <td>73</td>\n",
       "      <td>-0.571429</td>\n",
       "      <td>Panic! At The Disco</td>\n",
       "      <td>NaN</td>\n",
       "      <td>2260</td>\n",
       "      <td>NaN</td>\n",
       "      <td>25569807</td>\n",
       "      <td>19467404</td>\n",
       "      <td>established</td>\n",
       "      <td>-0.571429</td>\n",
       "    </tr>\n",
       "    <tr>\n",
       "      <th>4</th>\n",
       "      <td>2020-01-09T00:00:00.000Z</td>\n",
       "      <td>170</td>\n",
       "      <td>Cherry</td>\n",
       "      <td>27653545</td>\n",
       "      <td>['Harry Styles']</td>\n",
       "      <td>[558681]</td>\n",
       "      <td>1671575</td>\n",
       "      <td>4</td>\n",
       "      <td>-3.000000</td>\n",
       "      <td>Harry Styles</td>\n",
       "      <td>NaN</td>\n",
       "      <td>558681</td>\n",
       "      <td>NaN</td>\n",
       "      <td>30532559</td>\n",
       "      <td>41313683</td>\n",
       "      <td>established</td>\n",
       "      <td>-3.000000</td>\n",
       "    </tr>\n",
       "  </tbody>\n",
       "</table>\n",
       "</div>"
      ],
      "text/plain": [
       "                   add_date  rank                title  cm_track_id  \\\n",
       "0  2020-01-09T00:00:00.000Z    36  Writing on the Wall     25351517   \n",
       "1  2020-01-09T00:00:00.000Z   146         Love Me More     26809533   \n",
       "2  2020-01-09T00:00:00.000Z   161             Millions     27921981   \n",
       "3  2020-01-09T00:00:00.000Z   166           High Hopes     19332635   \n",
       "4  2020-01-09T00:00:00.000Z   170               Cherry     27653545   \n",
       "\n",
       "                                        artist_names  \\\n",
       "0  ['French Montana', 'Post Malone', 'Cardi B', '...   \n",
       "1                                   ['Trippie Redd']   \n",
       "2                                     ['Young Thug']   \n",
       "3                            ['Panic! At The Disco']   \n",
       "4                                   ['Harry Styles']   \n",
       "\n",
       "                    cm_artist_ids  current_plays  time_on_chart  velocity  \\\n",
       "0  [3754, 135326, 200408, 214112]        3695717              3 -0.142857   \n",
       "1                        [526471]        1806170              6  2.571429   \n",
       "2                          [4517]        1712574              3 -3.285714   \n",
       "3                          [2260]        1679097             73 -0.571429   \n",
       "4                        [558681]        1671575              4 -3.000000   \n",
       "\n",
       "        primary_artist secondary_artist  primary_artist ID  \\\n",
       "0       French Montana      Post Malone               3754   \n",
       "1         Trippie Redd              NaN             526471   \n",
       "2           Young Thug              NaN               4517   \n",
       "3  Panic! At The Disco              NaN               2260   \n",
       "4         Harry Styles              NaN             558681   \n",
       "\n",
       "   secondfary_artist ID  Prim: Jan. 5-Listeners  Prim: Dec. 6-Listeners  \\\n",
       "0              135326.0                20521868                15345601   \n",
       "1                   NaN                14643705                15492508   \n",
       "2                   NaN                21155993                28654596   \n",
       "3                   NaN                25569807                19467404   \n",
       "4                   NaN                30532559                41313683   \n",
       "\n",
       "  artist_popularity_type  max velocity  \n",
       "0            established     -0.142857  \n",
       "1            established      2.571429  \n",
       "2            established     -3.285714  \n",
       "3            established     -0.571429  \n",
       "4            established     -3.000000  "
      ]
     },
     "execution_count": 110,
     "metadata": {},
     "output_type": "execute_result"
    }
   ],
   "source": [
    "spotify2020 = pd.read_csv('data collection/spotify2020_v3(no-dups).csv', index_col=0)\n",
    "\n",
    "spotify2020.head()"
   ]
  },
  {
   "cell_type": "code",
   "execution_count": 6,
   "metadata": {},
   "outputs": [
    {
     "data": {
      "text/plain": [
       "-0.14285714285714302"
      ]
     },
     "execution_count": 6,
     "metadata": {},
     "output_type": "execute_result"
    }
   ],
   "source": [
    "spotify2020.loc[spotify2020['artist_popularity_type'] == 'emerging']['velocity'].median()"
   ]
  },
  {
   "cell_type": "code",
   "execution_count": 7,
   "metadata": {},
   "outputs": [
    {
     "data": {
      "text/plain": [
       "-0.42857142857142894"
      ]
     },
     "execution_count": 7,
     "metadata": {},
     "output_type": "execute_result"
    }
   ],
   "source": [
    "spotify2020.loc[spotify2020['artist_popularity_type'] == 'established']['velocity'].median()"
   ]
  },
  {
   "cell_type": "code",
   "execution_count": 8,
   "metadata": {},
   "outputs": [
    {
     "data": {
      "text/plain": [
       "-0.7142857142857142"
      ]
     },
     "execution_count": 8,
     "metadata": {},
     "output_type": "execute_result"
    }
   ],
   "source": [
    "spotify2020.loc[spotify2020['artist_popularity_type'] == 'superstar']['velocity'].median()"
   ]
  },
  {
   "cell_type": "markdown",
   "metadata": {},
   "source": [
    "### Max Velocity vs Time On Chart "
   ]
  },
  {
   "cell_type": "code",
   "execution_count": 99,
   "metadata": {},
   "outputs": [
    {
     "data": {
      "text/plain": [
       "<AxesSubplot:xlabel='max velocity', ylabel='time_on_chart'>"
      ]
     },
     "execution_count": 99,
     "metadata": {},
     "output_type": "execute_result"
    },
    {
     "data": {
      "image/png": "[encoded data removed]",
      "text/plain": [
       "<Figure size 432x288 with 1 Axes>"
      ]
     },
     "metadata": {
      "needs_background": "light"
     },
     "output_type": "display_data"
    }
   ],
   "source": [
    "\n",
    "sns.scatterplot( x=spotify2020['max velocity'], y=spotify2020['time_on_chart'], hue=spotify2020['artist_popularity_type'])"
   ]
  },
  {
   "cell_type": "code",
   "execution_count": 111,
   "metadata": {},
   "outputs": [
    {
     "data": {
      "text/plain": [
       "1.7857142857142847"
      ]
     },
     "execution_count": 111,
     "metadata": {},
     "output_type": "execute_result"
    }
   ],
   "source": [
    "spotify2020['max velocity'].median()"
   ]
  },
  {
   "cell_type": "code",
   "execution_count": 100,
   "metadata": {},
   "outputs": [
    {
     "data": {
      "text/plain": [
       "3.85714285714286"
      ]
     },
     "execution_count": 100,
     "metadata": {},
     "output_type": "execute_result"
    }
   ],
   "source": [
    "spotify2020.loc[spotify2020['artist_popularity_type'] == 'emerging']['max velocity'].median()"
   ]
  },
  {
   "cell_type": "code",
   "execution_count": 101,
   "metadata": {},
   "outputs": [
    {
     "data": {
      "text/plain": [
       "3.0"
      ]
     },
     "execution_count": 101,
     "metadata": {},
     "output_type": "execute_result"
    }
   ],
   "source": [
    "spotify2020.loc[spotify2020['artist_popularity_type'] == 'emerging']['time_on_chart'].median()"
   ]
  },
  {
   "cell_type": "code",
   "execution_count": 102,
   "metadata": {},
   "outputs": [
    {
     "data": {
      "text/plain": [
       "1.57142857142857"
      ]
     },
     "execution_count": 102,
     "metadata": {},
     "output_type": "execute_result"
    }
   ],
   "source": [
    "spotify2020.loc[spotify2020['artist_popularity_type'] == 'established']['max velocity'].median()"
   ]
  },
  {
   "cell_type": "code",
   "execution_count": 103,
   "metadata": {},
   "outputs": [
    {
     "data": {
      "text/plain": [
       "2.0"
      ]
     },
     "execution_count": 103,
     "metadata": {},
     "output_type": "execute_result"
    }
   ],
   "source": [
    "spotify2020.loc[spotify2020['artist_popularity_type'] == 'established']['time_on_chart'].median()"
   ]
  },
  {
   "cell_type": "code",
   "execution_count": 104,
   "metadata": {},
   "outputs": [
    {
     "data": {
      "text/plain": [
       "0.0"
      ]
     },
     "execution_count": 104,
     "metadata": {},
     "output_type": "execute_result"
    }
   ],
   "source": [
    "spotify2020.loc[spotify2020['artist_popularity_type'] == 'superstar']['max velocity'].median()"
   ]
  },
  {
   "cell_type": "code",
   "execution_count": 105,
   "metadata": {},
   "outputs": [
    {
     "data": {
      "text/plain": [
       "4.0"
      ]
     },
     "execution_count": 105,
     "metadata": {},
     "output_type": "execute_result"
    }
   ],
   "source": [
    "spotify2020.loc[spotify2020['artist_popularity_type'] == 'superstar']['time_on_chart'].median()"
   ]
  },
  {
   "cell_type": "code",
   "execution_count": 107,
   "metadata": {},
   "outputs": [
    {
     "name": "stderr",
     "output_type": "stream",
     "text": [
      "/home/bull/Documents/practice1/test/lib/python3.8/site-packages/seaborn/distributions.py:2551: FutureWarning: `distplot` is a deprecated function and will be removed in a future version. Please adapt your code to use either `displot` (a figure-level function with similar flexibility) or `histplot` (an axes-level function for histograms).\n",
      "  warnings.warn(msg, FutureWarning)\n"
     ]
    },
    {
     "data": {
      "text/plain": [
       "<AxesSubplot:xlabel='max velocity', ylabel='Density'>"
      ]
     },
     "execution_count": 107,
     "metadata": {},
     "output_type": "execute_result"
    },
    {
     "data": {
      "image/png": "[encoded data removed]",
      "text/plain": [
       "<Figure size 432x288 with 1 Axes>"
      ]
     },
     "metadata": {
      "needs_background": "light"
     },
     "output_type": "display_data"
    }
   ],
   "source": [
    "sns.distplot(spotify2020.loc[spotify2020['artist_popularity_type'] == 'emerging']['max velocity'])"
   ]
  },
  {
   "cell_type": "code",
   "execution_count": 24,
   "metadata": {},
   "outputs": [
    {
     "name": "stderr",
     "output_type": "stream",
     "text": [
      "/home/bull/Documents/practice1/test/lib/python3.8/site-packages/seaborn/distributions.py:2551: FutureWarning: `distplot` is a deprecated function and will be removed in a future version. Please adapt your code to use either `displot` (a figure-level function with similar flexibility) or `histplot` (an axes-level function for histograms).\n",
      "  warnings.warn(msg, FutureWarning)\n"
     ]
    },
    {
     "data": {
      "text/plain": [
       "<AxesSubplot:xlabel='velocity', ylabel='Density'>"
      ]
     },
     "execution_count": 24,
     "metadata": {},
     "output_type": "execute_result"
    },
    {
     "data": {
      "image/png": "[encoded data removed]",
      "text/plain": [
       "<Figure size 432x288 with 1 Axes>"
      ]
     },
     "metadata": {
      "needs_background": "light"
     },
     "output_type": "display_data"
    }
   ],
   "source": [
    "sns.distplot(spotify2020.loc[spotify2020['artist_popularity_type'] == 'established']['max velocity'])"
   ]
  },
  {
   "cell_type": "code",
   "execution_count": 108,
   "metadata": {},
   "outputs": [
    {
     "name": "stderr",
     "output_type": "stream",
     "text": [
      "/home/bull/Documents/practice1/test/lib/python3.8/site-packages/seaborn/distributions.py:2551: FutureWarning: `distplot` is a deprecated function and will be removed in a future version. Please adapt your code to use either `displot` (a figure-level function with similar flexibility) or `histplot` (an axes-level function for histograms).\n",
      "  warnings.warn(msg, FutureWarning)\n"
     ]
    },
    {
     "data": {
      "text/plain": [
       "<AxesSubplot:xlabel='max velocity', ylabel='Density'>"
      ]
     },
     "execution_count": 108,
     "metadata": {},
     "output_type": "execute_result"
    },
    {
     "data": {
      "image/png": "[encoded data removed]",
      "text/plain": [
       "<Figure size 432x288 with 1 Axes>"
      ]
     },
     "metadata": {
      "needs_background": "light"
     },
     "output_type": "display_data"
    }
   ],
   "source": [
    "sns.distplot(spotify2020.loc[spotify2020['artist_popularity_type'] == 'superstar']['max velocity'])"
   ]
  },
  {
   "cell_type": "markdown",
   "metadata": {},
   "source": [
    "### Statistical tests\n",
    "Null Hypothesis: The Median max velocity for emerging, established, and superstar artists are equal"
   ]
  },
  {
   "cell_type": "code",
   "execution_count": 114,
   "metadata": {},
   "outputs": [
    {
     "name": "stderr",
     "output_type": "stream",
     "text": [
      "/home/bull/Documents/practice1/test/lib/python3.8/site-packages/seaborn/distributions.py:2551: FutureWarning: `distplot` is a deprecated function and will be removed in a future version. Please adapt your code to use either `displot` (a figure-level function with similar flexibility) or `histplot` (an axes-level function for histograms).\n",
      "  warnings.warn(msg, FutureWarning)\n"
     ]
    },
    {
     "data": {
      "text/plain": [
       "<AxesSubplot:xlabel='max velocity', ylabel='Density'>"
      ]
     },
     "execution_count": 114,
     "metadata": {},
     "output_type": "execute_result"
    },
    {
     "data": {
      "image/png": "[encoded data removed]",
      "text/plain": [
       "<Figure size 432x288 with 1 Axes>"
      ]
     },
     "metadata": {
      "needs_background": "light"
     },
     "output_type": "display_data"
    }
   ],
   "source": [
    "sns.distplot(spotify2020['max velocity'])"
   ]
  },
  {
   "cell_type": "code",
   "execution_count": 119,
   "metadata": {},
   "outputs": [],
   "source": [
    "#performal normal distribution test\n",
    "def is_it_normal(array):\n",
    "    return stats.normaltest(array, nan_policy='omit')"
   ]
  },
  {
   "cell_type": "code",
   "execution_count": 120,
   "metadata": {},
   "outputs": [
    {
     "data": {
      "text/plain": [
       "NormaltestResult(statistic=58.70752299019757, pvalue=1.7857611052046037e-13)"
      ]
     },
     "execution_count": 120,
     "metadata": {},
     "output_type": "execute_result"
    }
   ],
   "source": [
    "is_it_normal(spotify2020['max velocity'])"
   ]
  },
  {
   "cell_type": "markdown",
   "metadata": {},
   "source": [
    "Because the p-value is extremely small we can reject the null hypothesis that the distribution is normal. So our data is non-parametric. let's use the kruskal wallis test to compare groups"
   ]
  },
  {
   "cell_type": "code",
   "execution_count": 145,
   "metadata": {},
   "outputs": [
    {
     "data": {
      "text/plain": [
       "<seaborn.axisgrid.FacetGrid at 0x7fa63d9ef190>"
      ]
     },
     "execution_count": 145,
     "metadata": {},
     "output_type": "execute_result"
    },
    {
     "data": {
      "image/png": "[encoded data removed]",
      "text/plain": [
       "<Figure size 476.875x360 with 1 Axes>"
      ]
     },
     "metadata": {
      "needs_background": "light"
     },
     "output_type": "display_data"
    }
   ],
   "source": [
    "sns.displot(spotify2020, x='max velocity', hue='artist_popularity_type', element='step')"
   ]
  },
  {
   "cell_type": "code",
   "execution_count": 151,
   "metadata": {},
   "outputs": [
    {
     "data": {
      "text/plain": [
       "<seaborn.axisgrid.FacetGrid at 0x7fa63dc49cd0>"
      ]
     },
     "execution_count": 151,
     "metadata": {},
     "output_type": "execute_result"
    },
    {
     "data": {
      "image/png": "[encoded data removed]",
      "text/plain": [
       "<Figure size 360x360 with 1 Axes>"
      ]
     },
     "metadata": {
      "needs_background": "light"
     },
     "output_type": "display_data"
    },
    {
     "data": {
      "image/png": "[encoded data removed]",
      "text/plain": [
       "<Figure size 360x360 with 1 Axes>"
      ]
     },
     "metadata": {
      "needs_background": "light"
     },
     "output_type": "display_data"
    }
   ],
   "source": [
    "sns.displot(wellknown_maxvelocity)\n",
    "sns.displot(emerging_maxvelocity)"
   ]
  },
  {
   "cell_type": "code",
   "execution_count": 133,
   "metadata": {},
   "outputs": [
    {
     "data": {
      "text/plain": [
       "Index(['add_date', 'rank', 'title', 'cm_track_id', 'artist_names',\n",
       "       'cm_artist_ids', 'current_plays', 'time_on_chart', 'velocity',\n",
       "       'primary_artist', 'secondary_artist', 'primary_artist ID',\n",
       "       'secondfary_artist ID', 'Prim: Jan. 5-Listeners',\n",
       "       'Prim: Dec. 6-Listeners', 'artist_popularity_type', 'max velocity'],\n",
       "      dtype='object')"
      ]
     },
     "execution_count": 133,
     "metadata": {},
     "output_type": "execute_result"
    }
   ],
   "source": [
    "spotify2020.keys()"
   ]
  },
  {
   "cell_type": "markdown",
   "metadata": {},
   "source": [
    "### Kruskal-Wallis Test"
   ]
  },
  {
   "cell_type": "code",
   "execution_count": 147,
   "metadata": {},
   "outputs": [],
   "source": [
    "#create array for each group\n",
    "emerging_maxvelocity = spotify2020.loc[spotify2020['artist_popularity_type'] == 'emerging']['max velocity']\n",
    "established_maxvelocity = spotify2020.loc[spotify2020['artist_popularity_type'] == 'established']['max velocity']\n",
    "superstar_maxvelocity = spotify2020.loc[spotify2020['artist_popularity_type'] == 'superstar']['max velocity']\n",
    "wellknown_maxvelocity = spotify2020.loc[(spotify2020['artist_popularity_type'] == 'superstar') | (spotify2020['artist_popularity_type'] == 'established')]['max velocity']"
   ]
  },
  {
   "cell_type": "code",
   "execution_count": 139,
   "metadata": {},
   "outputs": [
    {
     "data": {
      "text/plain": [
       "KruskalResult(statistic=51.09723780775619, pvalue=8.023720459869356e-12)"
      ]
     },
     "execution_count": 139,
     "metadata": {},
     "output_type": "execute_result"
    }
   ],
   "source": [
    "\n",
    "stats.kruskal(emerging_maxvelocity, established_maxvelocity, superstar_maxvelocity, nan_policy='omit')"
   ]
  },
  {
   "cell_type": "code",
   "execution_count": 141,
   "metadata": {},
   "outputs": [],
   "source": [
    "def ttest(array1, array2):\n",
    "    return stats.ttest_ind(array1,array2, nan_policy='omit')"
   ]
  },
  {
   "cell_type": "code",
   "execution_count": 142,
   "metadata": {},
   "outputs": [
    {
     "data": {
      "text/plain": [
       "Ttest_indResult(statistic=4.803666928495043, pvalue=1.9908736055112214e-06)"
      ]
     },
     "execution_count": 142,
     "metadata": {},
     "output_type": "execute_result"
    }
   ],
   "source": [
    "ttest(emerging_maxvelocity, established_maxvelocity)"
   ]
  },
  {
   "cell_type": "code",
   "execution_count": 143,
   "metadata": {},
   "outputs": [
    {
     "data": {
      "text/plain": [
       "Ttest_indResult(statistic=6.075814280609885, pvalue=3.13306396541017e-09)"
      ]
     },
     "execution_count": 143,
     "metadata": {},
     "output_type": "execute_result"
    }
   ],
   "source": [
    "ttest(emerging_maxvelocity, superstar_maxvelocity)"
   ]
  },
  {
   "cell_type": "code",
   "execution_count": 144,
   "metadata": {},
   "outputs": [
    {
     "data": {
      "text/plain": [
       "Ttest_indResult(statistic=1.8252551431615838, pvalue=0.0684998364327843)"
      ]
     },
     "execution_count": 144,
     "metadata": {},
     "output_type": "execute_result"
    }
   ],
   "source": [
    "ttest(established_maxvelocity, superstar_maxvelocity)"
   ]
  },
  {
   "cell_type": "code",
   "execution_count": null,
   "metadata": {},
   "outputs": [],
   "source": []
  },
  {
   "cell_type": "markdown",
   "metadata": {},
   "source": [
    "## Most Weeks at #1"
   ]
  },
  {
   "cell_type": "code",
   "execution_count": 38,
   "metadata": {},
   "outputs": [
    {
     "data": {
      "text/html": [
       "<div>\n",
       "<style scoped>\n",
       "    .dataframe tbody tr th:only-of-type {\n",
       "        vertical-align: middle;\n",
       "    }\n",
       "\n",
       "    .dataframe tbody tr th {\n",
       "        vertical-align: top;\n",
       "    }\n",
       "\n",
       "    .dataframe thead th {\n",
       "        text-align: right;\n",
       "    }\n",
       "</style>\n",
       "<table border=\"1\" class=\"dataframe\">\n",
       "  <thead>\n",
       "    <tr style=\"text-align: right;\">\n",
       "      <th></th>\n",
       "      <th>add_date</th>\n",
       "      <th>rank</th>\n",
       "      <th>title</th>\n",
       "      <th>cm_track_id</th>\n",
       "      <th>artist_names</th>\n",
       "      <th>cm_artist_ids</th>\n",
       "      <th>current_plays</th>\n",
       "      <th>time_on_chart</th>\n",
       "      <th>velocity</th>\n",
       "      <th>primary_artist</th>\n",
       "      <th>secondary_artist</th>\n",
       "      <th>primary_artist ID</th>\n",
       "      <th>secondfary_artist ID</th>\n",
       "      <th>Prim: Jan. 5-Listeners</th>\n",
       "      <th>Prim: Dec. 6-Listeners</th>\n",
       "      <th>artist_popularity_type</th>\n",
       "    </tr>\n",
       "  </thead>\n",
       "  <tbody>\n",
       "    <tr>\n",
       "      <th>0</th>\n",
       "      <td>2020-01-09T00:00:00.000Z</td>\n",
       "      <td>1</td>\n",
       "      <td>The Box</td>\n",
       "      <td>27599255</td>\n",
       "      <td>['Roddy Ricch']</td>\n",
       "      <td>[839964]</td>\n",
       "      <td>18952305</td>\n",
       "      <td>55</td>\n",
       "      <td>0.000000</td>\n",
       "      <td>Roddy Ricch</td>\n",
       "      <td>NaN</td>\n",
       "      <td>839964</td>\n",
       "      <td>NaN</td>\n",
       "      <td>19014642</td>\n",
       "      <td>21923722</td>\n",
       "      <td>established</td>\n",
       "    </tr>\n",
       "    <tr>\n",
       "      <th>1</th>\n",
       "      <td>2020-01-09T00:00:00.000Z</td>\n",
       "      <td>2</td>\n",
       "      <td>ROXANNE</td>\n",
       "      <td>27228348</td>\n",
       "      <td>['Arizona Zervas']</td>\n",
       "      <td>[64150]</td>\n",
       "      <td>9671478</td>\n",
       "      <td>57</td>\n",
       "      <td>0.000000</td>\n",
       "      <td>Arizona Zervas</td>\n",
       "      <td>NaN</td>\n",
       "      <td>64150</td>\n",
       "      <td>NaN</td>\n",
       "      <td>28519561</td>\n",
       "      <td>12499023</td>\n",
       "      <td>established</td>\n",
       "    </tr>\n",
       "    <tr>\n",
       "      <th>2</th>\n",
       "      <td>2020-01-09T00:00:00.000Z</td>\n",
       "      <td>3</td>\n",
       "      <td>Yummy</td>\n",
       "      <td>28077991</td>\n",
       "      <td>['Justin Bieber']</td>\n",
       "      <td>[3479]</td>\n",
       "      <td>9648561</td>\n",
       "      <td>6</td>\n",
       "      <td>NaN</td>\n",
       "      <td>Justin Bieber</td>\n",
       "      <td>NaN</td>\n",
       "      <td>3479</td>\n",
       "      <td>NaN</td>\n",
       "      <td>59053556</td>\n",
       "      <td>72539216</td>\n",
       "      <td>superstar</td>\n",
       "    </tr>\n",
       "    <tr>\n",
       "      <th>3</th>\n",
       "      <td>2020-01-09T00:00:00.000Z</td>\n",
       "      <td>4</td>\n",
       "      <td>Circles</td>\n",
       "      <td>25021708</td>\n",
       "      <td>['Post Malone']</td>\n",
       "      <td>[135326]</td>\n",
       "      <td>8244725</td>\n",
       "      <td>67</td>\n",
       "      <td>-0.142857</td>\n",
       "      <td>Post Malone</td>\n",
       "      <td>NaN</td>\n",
       "      <td>135326</td>\n",
       "      <td>NaN</td>\n",
       "      <td>59360500</td>\n",
       "      <td>41224314</td>\n",
       "      <td>superstar</td>\n",
       "    </tr>\n",
       "    <tr>\n",
       "      <th>4</th>\n",
       "      <td>2020-01-09T00:00:00.000Z</td>\n",
       "      <td>5</td>\n",
       "      <td>BOP</td>\n",
       "      <td>25358331</td>\n",
       "      <td>['DaBaby']</td>\n",
       "      <td>[398544]</td>\n",
       "      <td>7985170</td>\n",
       "      <td>65</td>\n",
       "      <td>-0.142857</td>\n",
       "      <td>DaBaby</td>\n",
       "      <td>NaN</td>\n",
       "      <td>398544</td>\n",
       "      <td>NaN</td>\n",
       "      <td>21300480</td>\n",
       "      <td>42133931</td>\n",
       "      <td>established</td>\n",
       "    </tr>\n",
       "  </tbody>\n",
       "</table>\n",
       "</div>"
      ],
      "text/plain": [
       "                   add_date  rank    title  cm_track_id        artist_names  \\\n",
       "0  2020-01-09T00:00:00.000Z     1  The Box     27599255     ['Roddy Ricch']   \n",
       "1  2020-01-09T00:00:00.000Z     2  ROXANNE     27228348  ['Arizona Zervas']   \n",
       "2  2020-01-09T00:00:00.000Z     3    Yummy     28077991   ['Justin Bieber']   \n",
       "3  2020-01-09T00:00:00.000Z     4  Circles     25021708     ['Post Malone']   \n",
       "4  2020-01-09T00:00:00.000Z     5      BOP     25358331          ['DaBaby']   \n",
       "\n",
       "  cm_artist_ids  current_plays  time_on_chart  velocity  primary_artist  \\\n",
       "0      [839964]       18952305             55  0.000000     Roddy Ricch   \n",
       "1       [64150]        9671478             57  0.000000  Arizona Zervas   \n",
       "2        [3479]        9648561              6       NaN   Justin Bieber   \n",
       "3      [135326]        8244725             67 -0.142857     Post Malone   \n",
       "4      [398544]        7985170             65 -0.142857          DaBaby   \n",
       "\n",
       "  secondary_artist  primary_artist ID  secondfary_artist ID  \\\n",
       "0              NaN             839964                   NaN   \n",
       "1              NaN              64150                   NaN   \n",
       "2              NaN               3479                   NaN   \n",
       "3              NaN             135326                   NaN   \n",
       "4              NaN             398544                   NaN   \n",
       "\n",
       "   Prim: Jan. 5-Listeners  Prim: Dec. 6-Listeners artist_popularity_type  \n",
       "0                19014642                21923722            established  \n",
       "1                28519561                12499023            established  \n",
       "2                59053556                72539216              superstar  \n",
       "3                59360500                41224314              superstar  \n",
       "4                21300480                42133931            established  "
      ]
     },
     "execution_count": 38,
     "metadata": {},
     "output_type": "execute_result"
    }
   ],
   "source": [
    "spotify2020.head()"
   ]
  },
  {
   "cell_type": "code",
   "execution_count": 40,
   "metadata": {},
   "outputs": [],
   "source": [
    "num1tracks = spotify2020.loc[spotify2020['rank'] == 1]"
   ]
  },
  {
   "cell_type": "code",
   "execution_count": 43,
   "metadata": {},
   "outputs": [
    {
     "data": {
      "text/plain": [
       "The Box                                      11\n",
       "ROCKSTAR (feat. Roddy Ricch)                 10\n",
       "WAP (feat. Megan Thee Stallion)               9\n",
       "positions                                     4\n",
       "Toosie Slide                                  3\n",
       "Blinding Lights                               2\n",
       "Lemonade (feat. Gunna, Don Toliver & NAV)     2\n",
       "THE SCOTTS                                    2\n",
       "cardigan                                      1\n",
       "Come & Go (with Marshmello)                   1\n",
       "Therefore I Am                                1\n",
       "All I Want for Christmas Is You               1\n",
       "DÁKITI                                        1\n",
       "Wishing Well                                  1\n",
       "Name: title, dtype: int64"
      ]
     },
     "execution_count": 43,
     "metadata": {},
     "output_type": "execute_result"
    }
   ],
   "source": [
    "num1tracks['title'].value_counts()"
   ]
  },
  {
   "cell_type": "code",
   "execution_count": 52,
   "metadata": {},
   "outputs": [
    {
     "data": {
      "image/png": "[encoded data removed]",
      "text/plain": [
       "<Figure size 432x288 with 1 Axes>"
      ]
     },
     "metadata": {
      "needs_background": "light"
     },
     "output_type": "display_data"
    }
   ],
   "source": [
    "sns.countplot(x=num1tracks['title'])\n",
    "plt.xticks(rotation=90)\n",
    "plt.show()"
   ]
  },
  {
   "cell_type": "code",
   "execution_count": null,
   "metadata": {},
   "outputs": [],
   "source": []
  },
  {
   "cell_type": "code",
   "execution_count": null,
   "metadata": {},
   "outputs": [],
   "source": []
  },
  {
   "cell_type": "code",
   "execution_count": null,
   "metadata": {},
   "outputs": [],
   "source": []
  },
  {
   "cell_type": "code",
   "execution_count": null,
   "metadata": {},
   "outputs": [],
   "source": [
    "unique_artist_df"
   ]
  },
  {
   "cell_type": "code",
   "execution_count": null,
   "metadata": {},
   "outputs": [],
   "source": [
    "#look and listener distribution for January 5th\n",
    "\n",
    "unique_artist_df.describe()"
   ]
  },
  {
   "cell_type": "code",
   "execution_count": null,
   "metadata": {},
   "outputs": [],
   "source": [
    "#new dataframe of 25th percentile of artists - Jan5th\n",
    "lower25 = unique_artist_df.loc[unique_artist_df['Jan. 5-Listeners'] < unique_artist_df['Jan. 5-Listeners'].quantile(.25)]"
   ]
  },
  {
   "cell_type": "code",
   "execution_count": null,
   "metadata": {},
   "outputs": [],
   "source": [
    "#new feature of listener change between Jan and Dec\n",
    "lower25['listener_change'] = lower25['Dec. 6-Listeners'] - lower25['Jan. 5-Listeners']"
   ]
  },
  {
   "cell_type": "code",
   "execution_count": null,
   "metadata": {},
   "outputs": [],
   "source": [
    "#new feature of percent change is artist listeners\n",
    "def percent_change(x):\n",
    "    return ((x[1]- x[0])/x[0])*100"
   ]
  },
  {
   "cell_type": "code",
   "execution_count": null,
   "metadata": {},
   "outputs": [],
   "source": [
    "lower25['listener percent change %'] = lower25[['Jan. 5-Listeners', 'Dec. 6-Listeners']].apply(lambda x: percent_change(x), axis=1)"
   ]
  },
  {
   "cell_type": "code",
   "execution_count": null,
   "metadata": {},
   "outputs": [],
   "source": [
    "lower25.reset_index(inplace=True, drop=True)"
   ]
  },
  {
   "cell_type": "code",
   "execution_count": null,
   "metadata": {},
   "outputs": [],
   "source": [
    "#find artist with biggest percent gain in listeners\n",
    "\n",
    "top_emerging_artists = lower25.sort_values('listener percent change %', ascending=False).reset_index(drop=True)"
   ]
  },
  {
   "cell_type": "code",
   "execution_count": null,
   "metadata": {},
   "outputs": [],
   "source": [
    "\n",
    "\n",
    "top_emerging_artists['Jan. 5-Listeners'].apply(lambda x: \"{:,}\".format(x['Jan. 5-Listeners']))"
   ]
  },
  {
   "cell_type": "code",
   "execution_count": null,
   "metadata": {},
   "outputs": [],
   "source": [
    "#save top emerging artists to csv\n",
    "top_emerging_artists.to_csv('top_emerging_artists2020.csv', index_label='index')\n",
    "\n",
    "# top_emerging_artists = pd.read_csv('top_emerging_artists2020.csv', index_col=0)"
   ]
  },
  {
   "cell_type": "code",
   "execution_count": null,
   "metadata": {},
   "outputs": [],
   "source": [
    "listener_sorted = top_emerging_artists.sort_values('listener percent change %', ascending=False)\n",
    "top5 = listener_sorted.iloc[0:5, :]"
   ]
  },
  {
   "cell_type": "code",
   "execution_count": null,
   "metadata": {},
   "outputs": [],
   "source": [
    "top5.keys()"
   ]
  },
  {
   "cell_type": "code",
   "execution_count": null,
   "metadata": {},
   "outputs": [],
   "source": [
    "sns.barplot(top5['primary_artist'], top5['listener percent change %'], )\n",
    "plt.xticks(rotation=90)\n",
    "plt.tight_layout()\n",
    "plt.show()"
   ]
  },
  {
   "cell_type": "code",
   "execution_count": null,
   "metadata": {},
   "outputs": [],
   "source": [
    "top5brdg = top5[['title', 'primary_artist', 'Jan. 5-Listeners','Dec. 6-Listeners', 'listener_change', 'listener percent change %']]"
   ]
  },
  {
   "cell_type": "code",
   "execution_count": null,
   "metadata": {},
   "outputs": [],
   "source": [
    "tabulate(top5brdg, headers='keys', tablefmt = 'pretty')"
   ]
  },
  {
   "cell_type": "code",
   "execution_count": null,
   "metadata": {},
   "outputs": [],
   "source": [
    "top5brdg"
   ]
  },
  {
   "cell_type": "code",
   "execution_count": null,
   "metadata": {},
   "outputs": [],
   "source": []
  }
 ],
 "metadata": {
  "kernelspec": {
   "display_name": "Python 3",
   "language": "python",
   "name": "python3"
  },
  "language_info": {
   "codemirror_mode": {
    "name": "ipython",
    "version": 3
   },
   "file_extension": ".py",
   "mimetype": "text/x-python",
   "name": "python",
   "nbconvert_exporter": "python",
   "pygments_lexer": "ipython3",
   "version": "3.8.5"
  }
 },
 "nbformat": 4,
 "nbformat_minor": 4
}
